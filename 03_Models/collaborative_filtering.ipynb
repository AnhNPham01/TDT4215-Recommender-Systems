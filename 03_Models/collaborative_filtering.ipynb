{
 "cells": [
  {
   "cell_type": "markdown",
   "metadata": {},
   "source": [
    "### Collaborative filtering\n"
   ]
  },
  {
   "cell_type": "code",
<<<<<<< Updated upstream
   "execution_count": 38,
=======
   "execution_count": 25,
>>>>>>> Stashed changes
   "metadata": {},
   "outputs": [],
   "source": [
    "import pandas as pd\n",
    "import numpy as np \n",
    "from sklearn.metrics.pairwise import cosine_similarity\n",
    "from scipy.sparse import csr_matrix\n",
    "from datetime import timedelta"
   ]
  },
  {
   "cell_type": "code",
<<<<<<< Updated upstream
   "execution_count": 39,
=======
   "execution_count": 26,
>>>>>>> Stashed changes
   "metadata": {},
   "outputs": [],
   "source": [
    "#path to the mindsmall training data\n",
    "training_dataset = '../MINDsmall_train'\n",
    "\n",
    "validation_dataset = '../MINDsmall_train'\n",
    "\n",
    "entity_embedding = pd.read_csv(\"../MINDsmall_train/entity_embedding.vec\", sep='\\t')\n",
    "relation_embedding = pd.read_csv(\"../MINDsmall_train/relation_embedding.vec\", sep='\\t')\n",
    "\n",
    "\n",
    "news_data = pd.read_csv(\"../MINDsmall_train/news.tsv\",\n",
    "    sep='\\t',\n",
    "    names=[\"newsId\", \"category\", \"subcategory\", \"title\",\"abstract\", \"url\", \"title_entities\",\"abstract_entities\"]\n",
    ")\n",
    "\n",
    "behaviors_data = pd.read_csv(\n",
    "    \"../MINDsmall_train/behaviors.tsv\",\n",
    "    sep='\\t',\n",
    "    names=[\"impressionId\", \"userId\", \"timestamp\", \"click_history\", \"impressions\"],\n",
    "    parse_dates=['timestamp'] \n",
    ")"
   ]
  },
  {
   "cell_type": "markdown",
   "metadata": {},
   "source": [
    "### Preprocess data"
   ]
  },
  {
   "cell_type": "code",
<<<<<<< Updated upstream
   "execution_count": 40,
=======
   "execution_count": 27,
>>>>>>> Stashed changes
   "metadata": {},
   "outputs": [],
   "source": [
    "behaviors_data['timestamp'] = pd.to_datetime(behaviors_data['timestamp'], format='%Y-%m-%d %H:%M:%S')\n",
    "behaviors_data['hour_of_day'] = behaviors_data['timestamp'].dt.hour\n",
    "behaviors_data['clicks'] = behaviors_data['click_history'].str.split().str.len()\n",
    "behaviors_data['impressions_list'] = behaviors_data['impressions'].str.split()\n",
    "behaviors_data['impressions_count'] = behaviors_data['impressions_list'].str.len()\n",
    "\n",
    "# remove null values\n",
    "news_data = news_data.dropna().reset_index(drop=True)\n"
   ]
  },
  {
   "cell_type": "markdown",
   "metadata": {},
   "source": [
    "### Remove the null values for the clicks & impressions"
   ]
  },
  {
   "cell_type": "code",
<<<<<<< Updated upstream
   "execution_count": 41,
=======
   "execution_count": 28,
>>>>>>> Stashed changes
   "metadata": {},
   "outputs": [],
   "source": [
    "null_clicks_rows = behaviors_data[behaviors_data['clicks'].isnull() & behaviors_data['click_history'].isnull()]\n",
    "\n",
    "# Remove the rows with null values\n",
    "behaviors_data = behaviors_data.dropna().reset_index(drop=True)"
   ]
  },
  {
   "cell_type": "code",
<<<<<<< Updated upstream
   "execution_count": 42,
=======
   "execution_count": 29,
>>>>>>> Stashed changes
   "metadata": {},
   "outputs": [],
   "source": [
    "# sort behaviors_data by timestamp\n",
    "behaviors_data = behaviors_data.sort_values(by='timestamp')"
   ]
  },
  {
   "cell_type": "code",
<<<<<<< Updated upstream
   "execution_count": 43,
=======
   "execution_count": 30,
>>>>>>> Stashed changes
   "metadata": {},
   "outputs": [
    {
     "data": {
      "text/html": [
       "<div>\n",
       "<style scoped>\n",
       "    .dataframe tbody tr th:only-of-type {\n",
       "        vertical-align: middle;\n",
       "    }\n",
       "\n",
       "    .dataframe tbody tr th {\n",
       "        vertical-align: top;\n",
       "    }\n",
       "\n",
       "    .dataframe thead th {\n",
       "        text-align: right;\n",
       "    }\n",
       "</style>\n",
       "<table border=\"1\" class=\"dataframe\">\n",
       "  <thead>\n",
       "    <tr style=\"text-align: right;\">\n",
       "      <th></th>\n",
       "      <th>newsId</th>\n",
       "      <th>category</th>\n",
       "      <th>subcategory</th>\n",
       "      <th>title</th>\n",
       "      <th>abstract</th>\n",
       "      <th>url</th>\n",
       "      <th>title_entities</th>\n",
       "      <th>abstract_entities</th>\n",
       "    </tr>\n",
       "  </thead>\n",
       "  <tbody>\n",
       "    <tr>\n",
       "      <th>0</th>\n",
       "      <td>N55528</td>\n",
       "      <td>lifestyle</td>\n",
       "      <td>lifestyleroyals</td>\n",
       "      <td>The Brands Queen Elizabeth, Prince Charles, an...</td>\n",
       "      <td>Shop the notebooks, jackets, and more that the...</td>\n",
       "      <td>https://assets.msn.com/labs/mind/AAGH0ET.html</td>\n",
       "      <td>[{\"Label\": \"Prince Philip, Duke of Edinburgh\",...</td>\n",
       "      <td>[]</td>\n",
       "    </tr>\n",
       "    <tr>\n",
       "      <th>1</th>\n",
       "      <td>N19639</td>\n",
       "      <td>health</td>\n",
       "      <td>weightloss</td>\n",
       "      <td>50 Worst Habits For Belly Fat</td>\n",
       "      <td>These seemingly harmless habits are holding yo...</td>\n",
       "      <td>https://assets.msn.com/labs/mind/AAB19MK.html</td>\n",
       "      <td>[{\"Label\": \"Adipose tissue\", \"Type\": \"C\", \"Wik...</td>\n",
       "      <td>[{\"Label\": \"Adipose tissue\", \"Type\": \"C\", \"Wik...</td>\n",
       "    </tr>\n",
       "    <tr>\n",
       "      <th>2</th>\n",
       "      <td>N61837</td>\n",
       "      <td>news</td>\n",
       "      <td>newsworld</td>\n",
       "      <td>The Cost of Trump's Aid Freeze in the Trenches...</td>\n",
       "      <td>Lt. Ivan Molchanets peeked over a parapet of s...</td>\n",
       "      <td>https://assets.msn.com/labs/mind/AAJgNsz.html</td>\n",
       "      <td>[]</td>\n",
       "      <td>[{\"Label\": \"Ukraine\", \"Type\": \"G\", \"WikidataId...</td>\n",
       "    </tr>\n",
       "    <tr>\n",
       "      <th>3</th>\n",
       "      <td>N53526</td>\n",
       "      <td>health</td>\n",
       "      <td>voices</td>\n",
       "      <td>I Was An NBA Wife. Here's How It Affected My M...</td>\n",
       "      <td>I felt like I was a fraud, and being an NBA wi...</td>\n",
       "      <td>https://assets.msn.com/labs/mind/AACk2N6.html</td>\n",
       "      <td>[]</td>\n",
       "      <td>[{\"Label\": \"National Basketball Association\", ...</td>\n",
       "    </tr>\n",
       "    <tr>\n",
       "      <th>4</th>\n",
       "      <td>N38324</td>\n",
       "      <td>health</td>\n",
       "      <td>medical</td>\n",
       "      <td>How to Get Rid of Skin Tags, According to a De...</td>\n",
       "      <td>They seem harmless, but there's a very good re...</td>\n",
       "      <td>https://assets.msn.com/labs/mind/AAAKEkt.html</td>\n",
       "      <td>[{\"Label\": \"Skin tag\", \"Type\": \"C\", \"WikidataI...</td>\n",
       "      <td>[{\"Label\": \"Skin tag\", \"Type\": \"C\", \"WikidataI...</td>\n",
       "    </tr>\n",
       "  </tbody>\n",
       "</table>\n",
       "</div>"
      ],
      "text/plain": [
       "   newsId   category      subcategory  \\\n",
       "0  N55528  lifestyle  lifestyleroyals   \n",
       "1  N19639     health       weightloss   \n",
       "2  N61837       news        newsworld   \n",
       "3  N53526     health           voices   \n",
       "4  N38324     health          medical   \n",
       "\n",
       "                                               title  \\\n",
       "0  The Brands Queen Elizabeth, Prince Charles, an...   \n",
       "1                      50 Worst Habits For Belly Fat   \n",
       "2  The Cost of Trump's Aid Freeze in the Trenches...   \n",
       "3  I Was An NBA Wife. Here's How It Affected My M...   \n",
       "4  How to Get Rid of Skin Tags, According to a De...   \n",
       "\n",
       "                                            abstract  \\\n",
       "0  Shop the notebooks, jackets, and more that the...   \n",
       "1  These seemingly harmless habits are holding yo...   \n",
       "2  Lt. Ivan Molchanets peeked over a parapet of s...   \n",
       "3  I felt like I was a fraud, and being an NBA wi...   \n",
       "4  They seem harmless, but there's a very good re...   \n",
       "\n",
       "                                             url  \\\n",
       "0  https://assets.msn.com/labs/mind/AAGH0ET.html   \n",
       "1  https://assets.msn.com/labs/mind/AAB19MK.html   \n",
       "2  https://assets.msn.com/labs/mind/AAJgNsz.html   \n",
       "3  https://assets.msn.com/labs/mind/AACk2N6.html   \n",
       "4  https://assets.msn.com/labs/mind/AAAKEkt.html   \n",
       "\n",
       "                                      title_entities  \\\n",
       "0  [{\"Label\": \"Prince Philip, Duke of Edinburgh\",...   \n",
       "1  [{\"Label\": \"Adipose tissue\", \"Type\": \"C\", \"Wik...   \n",
       "2                                                 []   \n",
       "3                                                 []   \n",
       "4  [{\"Label\": \"Skin tag\", \"Type\": \"C\", \"WikidataI...   \n",
       "\n",
       "                                   abstract_entities  \n",
       "0                                                 []  \n",
       "1  [{\"Label\": \"Adipose tissue\", \"Type\": \"C\", \"Wik...  \n",
       "2  [{\"Label\": \"Ukraine\", \"Type\": \"G\", \"WikidataId...  \n",
       "3  [{\"Label\": \"National Basketball Association\", ...  \n",
       "4  [{\"Label\": \"Skin tag\", \"Type\": \"C\", \"WikidataI...  "
      ]
     },
<<<<<<< Updated upstream
     "execution_count": 43,
=======
     "execution_count": 30,
>>>>>>> Stashed changes
     "metadata": {},
     "output_type": "execute_result"
    }
   ],
   "source": [
    "news_data.head()"
   ]
  },
  {
   "cell_type": "code",
<<<<<<< Updated upstream
   "execution_count": 44,
=======
   "execution_count": 31,
>>>>>>> Stashed changes
   "metadata": {},
   "outputs": [
    {
     "data": {
      "text/html": [
       "<div>\n",
       "<style scoped>\n",
       "    .dataframe tbody tr th:only-of-type {\n",
       "        vertical-align: middle;\n",
       "    }\n",
       "\n",
       "    .dataframe tbody tr th {\n",
       "        vertical-align: top;\n",
       "    }\n",
       "\n",
       "    .dataframe thead th {\n",
       "        text-align: right;\n",
       "    }\n",
       "</style>\n",
       "<table border=\"1\" class=\"dataframe\">\n",
       "  <thead>\n",
       "    <tr style=\"text-align: right;\">\n",
       "      <th></th>\n",
       "      <th>impressionId</th>\n",
       "      <th>userId</th>\n",
       "      <th>timestamp</th>\n",
       "      <th>click_history</th>\n",
       "      <th>impressions</th>\n",
       "      <th>hour_of_day</th>\n",
       "      <th>clicks</th>\n",
       "      <th>impressions_list</th>\n",
       "      <th>impressions_count</th>\n",
       "    </tr>\n",
       "  </thead>\n",
       "  <tbody>\n",
       "    <tr>\n",
       "      <th>19705</th>\n",
       "      <td>20112</td>\n",
       "      <td>U65916</td>\n",
       "      <td>2019-11-09 00:00:19</td>\n",
       "      <td>N51706 N40767 N12096 N9798 N38802 N54827 N5780...</td>\n",
       "      <td>N54300-0 N46057-1 N57005-0 N52154-0 N57099-0 N...</td>\n",
       "      <td>0</td>\n",
       "      <td>15.0</td>\n",
       "      <td>[N54300-0, N46057-1, N57005-0, N52154-0, N5709...</td>\n",
       "      <td>31</td>\n",
       "    </tr>\n",
       "    <tr>\n",
       "      <th>13531</th>\n",
       "      <td>13807</td>\n",
       "      <td>U49985</td>\n",
       "      <td>2019-11-09 00:01:13</td>\n",
       "      <td>N5056 N29975 N53234 N39603 N50032 N8422 N53580...</td>\n",
       "      <td>N20602-0 N50059-0 N57768-1 N50135-1 N15134-0 N...</td>\n",
       "      <td>0</td>\n",
       "      <td>93.0</td>\n",
       "      <td>[N20602-0, N50059-0, N57768-1, N50135-1, N1513...</td>\n",
       "      <td>29</td>\n",
       "    </tr>\n",
       "    <tr>\n",
       "      <th>27115</th>\n",
       "      <td>27660</td>\n",
       "      <td>U25550</td>\n",
       "      <td>2019-11-09 00:02:44</td>\n",
       "      <td>N17260 N38298 N33976 N47719 N14888 N18870 N4607</td>\n",
       "      <td>N50135-0 N15134-0 N52433-1 N20602-0 N64536-0</td>\n",
       "      <td>0</td>\n",
       "      <td>7.0</td>\n",
       "      <td>[N50135-0, N15134-0, N52433-1, N20602-0, N6453...</td>\n",
       "      <td>5</td>\n",
       "    </tr>\n",
       "    <tr>\n",
       "      <th>149080</th>\n",
       "      <td>152217</td>\n",
       "      <td>U19710</td>\n",
       "      <td>2019-11-09 00:02:50</td>\n",
       "      <td>N3530 N48284 N43019 N62546 N138 N13138 N10676 ...</td>\n",
       "      <td>N57099-0 N30295-0 N21086-0 N5379-0 N57005-0 N4...</td>\n",
       "      <td>0</td>\n",
       "      <td>8.0</td>\n",
       "      <td>[N57099-0, N30295-0, N21086-0, N5379-0, N57005...</td>\n",
       "      <td>56</td>\n",
       "    </tr>\n",
       "    <tr>\n",
       "      <th>41348</th>\n",
       "      <td>42166</td>\n",
       "      <td>U38106</td>\n",
       "      <td>2019-11-09 00:03:09</td>\n",
       "      <td>N16874 N264 N48697 N51366</td>\n",
       "      <td>N3491-0 N20602-0 N25785-0 N23575-0 N38783-0 N1...</td>\n",
       "      <td>0</td>\n",
       "      <td>4.0</td>\n",
       "      <td>[N3491-0, N20602-0, N25785-0, N23575-0, N38783...</td>\n",
       "      <td>48</td>\n",
       "    </tr>\n",
       "  </tbody>\n",
       "</table>\n",
       "</div>"
      ],
      "text/plain": [
       "        impressionId  userId           timestamp  \\\n",
       "19705          20112  U65916 2019-11-09 00:00:19   \n",
       "13531          13807  U49985 2019-11-09 00:01:13   \n",
       "27115          27660  U25550 2019-11-09 00:02:44   \n",
       "149080        152217  U19710 2019-11-09 00:02:50   \n",
       "41348          42166  U38106 2019-11-09 00:03:09   \n",
       "\n",
       "                                            click_history  \\\n",
       "19705   N51706 N40767 N12096 N9798 N38802 N54827 N5780...   \n",
       "13531   N5056 N29975 N53234 N39603 N50032 N8422 N53580...   \n",
       "27115     N17260 N38298 N33976 N47719 N14888 N18870 N4607   \n",
       "149080  N3530 N48284 N43019 N62546 N138 N13138 N10676 ...   \n",
       "41348                           N16874 N264 N48697 N51366   \n",
       "\n",
       "                                              impressions  hour_of_day  \\\n",
       "19705   N54300-0 N46057-1 N57005-0 N52154-0 N57099-0 N...            0   \n",
       "13531   N20602-0 N50059-0 N57768-1 N50135-1 N15134-0 N...            0   \n",
       "27115        N50135-0 N15134-0 N52433-1 N20602-0 N64536-0            0   \n",
       "149080  N57099-0 N30295-0 N21086-0 N5379-0 N57005-0 N4...            0   \n",
       "41348   N3491-0 N20602-0 N25785-0 N23575-0 N38783-0 N1...            0   \n",
       "\n",
       "        clicks                                   impressions_list  \\\n",
       "19705     15.0  [N54300-0, N46057-1, N57005-0, N52154-0, N5709...   \n",
       "13531     93.0  [N20602-0, N50059-0, N57768-1, N50135-1, N1513...   \n",
       "27115      7.0  [N50135-0, N15134-0, N52433-1, N20602-0, N6453...   \n",
       "149080     8.0  [N57099-0, N30295-0, N21086-0, N5379-0, N57005...   \n",
       "41348      4.0  [N3491-0, N20602-0, N25785-0, N23575-0, N38783...   \n",
       "\n",
       "        impressions_count  \n",
       "19705                  31  \n",
       "13531                  29  \n",
       "27115                   5  \n",
       "149080                 56  \n",
       "41348                  48  "
      ]
     },
<<<<<<< Updated upstream
     "execution_count": 44,
=======
     "execution_count": 31,
>>>>>>> Stashed changes
     "metadata": {},
     "output_type": "execute_result"
    }
   ],
   "source": [
    "behaviors_data.head()"
   ]
  },
  {
   "cell_type": "markdown",
   "metadata": {},
   "source": [
    "### Sliding window\n",
    "Our sliding window is split into 6 hours for training and 3 hours for validation."
   ]
  },
  {
   "cell_type": "code",
<<<<<<< Updated upstream
   "execution_count": 45,
=======
   "execution_count": 32,
>>>>>>> Stashed changes
   "metadata": {},
   "outputs": [],
   "source": [
    "train_window_size = 6\n",
    "test_window_size = 3\n",
    "\n",
    "start_time = 0\n",
    "end_time = train_window_size\n",
    "recommendations = []\n",
    "\n",
    "\n",
    "def sliding_window(start_time, training_window_size, test_window_size=3):\n",
    "    end_time = training_window_size\n",
    "    training_data = behaviors_data[(behaviors_data['timestamp'] >= start_time) & (behaviors_data['timestamp'] < end_time)]\n",
    "    test_data = behaviors_data[(behaviors_data['timestamp'] >= end_time) & (behaviors_data['timestamp'] < end_time + test_window_size)]\n",
    "\n",
    "    return training_data, test_data\n"
   ]
  },
  {
   "cell_type": "markdown",
   "metadata": {},
   "source": [
    "### Interaction matrix\n",
    "For each article in the click history of each user interaction in the behaviors data, a 1 is added to the matrix."
   ]
  },
  {
   "cell_type": "code",
<<<<<<< Updated upstream
   "execution_count": 46,
=======
   "execution_count": 33,
>>>>>>> Stashed changes
   "metadata": {},
   "outputs": [],
   "source": [
    "def user_clicks(training_data):\n",
    "    all_clicks = []\n",
    "    for index, row in training_data.iterrows():\n",
    "        user_id = row['userId']\n",
    "        timestamp = row['timestamp']\n",
    "        for news_id in row['click_history'].split():\n",
    "            all_clicks.append([user_id, news_id, 1, timestamp])\n",
    "    clicks_df = pd.DataFrame(all_clicks, columns=['userId', 'newsId', 'click', 'timestamp'])\n",
    "    return clicks_df"
   ]
  },
  {
   "cell_type": "markdown",
   "metadata": {},
   "source": [
    "### Cosine similarity"
   ]
  },
  {
   "cell_type": "code",
<<<<<<< Updated upstream
   "execution_count": 47,
=======
   "execution_count": 34,
>>>>>>> Stashed changes
   "metadata": {},
   "outputs": [],
   "source": [
    "def create_matrix(clicks_df):\n",
    "    interaction_matrix = clicks_df.pivot_table(index='userId', columns='newsId', values='click', fill_value=0)\n",
    "    return interaction_matrix\n",
    "\n",
    "def get_similarity_df(interaction_matrix):\n",
    "    interaction_sparse = csr_matrix(interaction_matrix.values)\n",
    "    item_similarity = cosine_similarity(interaction_sparse.T)\n",
    "    item_similarity_df = pd.DataFrame(item_similarity, index=interaction_matrix.columns, columns=interaction_matrix.columns)\n",
    "    return item_similarity_df"
   ]
  },
  {
   "cell_type": "markdown",
   "metadata": {},
   "source": [
    "### Collaborative filtering with sliding window\n",
    "We allowed the sliding window to grow up to 72 hours as it allows for detailed data, and can give us more insight into evaluation metrics such as the coverage."
   ]
  },
  {
   "cell_type": "code",
<<<<<<< Updated upstream
   "execution_count": 80,
=======
   "execution_count": 35,
>>>>>>> Stashed changes
   "metadata": {},
   "outputs": [
    {
     "name": "stdout",
     "output_type": "stream",
     "text": [
<<<<<<< Updated upstream
      "Top 5 articles similar to N55189 from 2019-11-09 00:00:19 to 2019-11-09 06:00:19 are: ['N21746', 'N44110', 'N63248', 'N21623', 'N10343']\n"
     ]
    },
    {
     "data": {
      "text/plain": [
       "['N21746', 'N44110', 'N63248', 'N21623', 'N10343']"
      ]
     },
     "execution_count": 80,
     "metadata": {},
     "output_type": "execute_result"
=======
      "Top 5 articles similar to N55189 from 2019-11-09 00:00:19 to 2019-11-09 06:00:19 are: ['N21746', 'N44110', 'N63248', 'N21623', 'N10343']\n",
      "Top 5 articles similar to N55189 from 2019-11-09 00:00:19 to 2019-11-09 09:00:19 are: ['N27676', 'N42620', 'N51112', 'N21623', 'N54225']\n",
      "Top 5 articles similar to N55189 from 2019-11-09 00:00:19 to 2019-11-09 12:00:19 are: ['N42620', 'N27676', 'N29177', 'N306', 'N10059']\n",
      "Top 5 articles similar to N55189 from 2019-11-09 00:00:19 to 2019-11-09 15:00:19 are: ['N42620', 'N27676', 'N871', 'N306', 'N10059']\n",
      "Top 5 articles similar to N55189 from 2019-11-09 00:00:19 to 2019-11-09 18:00:19 are: ['N42620', 'N10059', 'N306', 'N871', 'N45729']\n",
      "Top 5 articles similar to N55189 from 2019-11-09 00:00:19 to 2019-11-09 21:00:19 are: ['N10059', 'N306', 'N42620', 'N29177', 'N871']\n",
      "Top 5 articles similar to N55189 from 2019-11-09 00:00:19 to 2019-11-10 00:00:19 are: ['N10059', 'N306', 'N42620', 'N29177', 'N871']\n",
      "Top 5 articles similar to N55189 from 2019-11-09 00:00:19 to 2019-11-10 03:00:19 are: ['N10059', 'N306', 'N42620', 'N29177', 'N871']\n",
      "Top 5 articles similar to N55189 from 2019-11-09 00:00:19 to 2019-11-10 06:00:19 are: ['N10059', 'N306', 'N45794', 'N871', 'N29177']\n",
      "Top 5 articles similar to N55189 from 2019-11-09 00:00:19 to 2019-11-10 09:00:19 are: ['N10059', 'N306', 'N45794', 'N871', 'N29177']\n",
      "Top 5 articles similar to N55189 from 2019-11-09 00:00:19 to 2019-11-10 12:00:19 are: ['N10059', 'N306', 'N871', 'N45794', 'N29177']\n",
      "Top 5 articles similar to N55189 from 2019-11-09 00:00:19 to 2019-11-10 15:00:19 are: ['N10059', 'N306', 'N29177', 'N45794', 'N871']\n",
      "Top 5 articles similar to N55189 from 2019-11-09 00:00:19 to 2019-11-10 18:00:19 are: ['N10059', 'N306', 'N871', 'N29177', 'N45794']\n",
      "Top 5 articles similar to N55189 from 2019-11-09 00:00:19 to 2019-11-10 21:00:19 are: ['N10059', 'N306', 'N871', 'N29177', 'N45794']\n",
      "Top 5 articles similar to N55189 from 2019-11-09 00:00:19 to 2019-11-11 00:00:19 are: ['N306', 'N10059', 'N29177', 'N871', 'N45794']\n",
      "Top 5 articles similar to N55189 from 2019-11-09 00:00:19 to 2019-11-11 03:00:19 are: ['N306', 'N10059', 'N29177', 'N871', 'N45794']\n",
      "Top 5 articles similar to N55189 from 2019-11-09 00:00:19 to 2019-11-11 06:00:19 are: ['N306', 'N10059', 'N29177', 'N871', 'N45729']\n",
      "Top 5 articles similar to N55189 from 2019-11-09 00:00:19 to 2019-11-11 09:00:19 are: ['N306', 'N10059', 'N29177', 'N871', 'N45794']\n",
      "Top 5 articles similar to N55189 from 2019-11-09 00:00:19 to 2019-11-11 12:00:19 are: ['N306', 'N29177', 'N871', 'N45729', 'N10059']\n",
      "Top 5 articles similar to N55189 from 2019-11-09 00:00:19 to 2019-11-11 15:00:19 are: ['N306', 'N871', 'N29177', 'N10059', 'N45729']\n",
      "Top 5 articles similar to N55189 from 2019-11-09 00:00:19 to 2019-11-11 18:00:19 are: ['N306', 'N871', 'N29177', 'N10059', 'N45729']\n",
      "Top 5 articles similar to N55189 from 2019-11-09 00:00:19 to 2019-11-11 21:00:19 are: ['N306', 'N871', 'N29177', 'N10059', 'N45729']\n",
      "Top 5 articles similar to N55189 from 2019-11-09 00:00:19 to 2019-11-12 00:00:19 are: ['N306', 'N871', 'N29177', 'N10059', 'N45729']\n",
      "Top 5 articles similar to N55189 from 2019-11-09 03:00:19 to 2019-11-12 03:00:19 are: ['N306', 'N871', 'N29177', 'N10059', 'N45729']\n",
      "Top 5 articles similar to N55189 from 2019-11-09 06:00:19 to 2019-11-12 06:00:19 are: ['N306', 'N871', 'N29177', 'N10059', 'N45729']\n",
      "Top 5 articles similar to N55189 from 2019-11-09 09:00:19 to 2019-11-12 09:00:19 are: ['N306', 'N871', 'N29177', 'N10059', 'N45729']\n",
      "Top 5 articles similar to N55189 from 2019-11-09 12:00:19 to 2019-11-12 12:00:19 are: ['N306', 'N871', 'N29177', 'N10059', 'N45729']\n",
      "Top 5 articles similar to N55189 from 2019-11-09 15:00:19 to 2019-11-12 15:00:19 are: ['N306', 'N871', 'N29177', 'N10059', 'N45729']\n",
      "Top 5 articles similar to N55189 from 2019-11-09 18:00:19 to 2019-11-12 18:00:19 are: ['N306', 'N871', 'N29177', 'N10059', 'N42620']\n",
      "Top 5 articles similar to N55189 from 2019-11-09 21:00:19 to 2019-11-12 21:00:19 are: ['N306', 'N871', 'N29177', 'N10059', 'N42620']\n",
      "Top 5 articles similar to N55189 from 2019-11-10 00:00:19 to 2019-11-13 00:00:19 are: ['N306', 'N871', 'N29177', 'N10059', 'N45729']\n",
      "Top 5 articles similar to N55189 from 2019-11-10 03:00:19 to 2019-11-13 03:00:19 are: ['N306', 'N871', 'N29177', 'N10059', 'N45729']\n",
      "Top 5 articles similar to N55189 from 2019-11-10 06:00:19 to 2019-11-13 06:00:19 are: ['N306', 'N871', 'N29177', 'N10059', 'N45729']\n",
      "Top 5 articles similar to N55189 from 2019-11-10 09:00:19 to 2019-11-13 09:00:19 are: ['N306', 'N29177', 'N871', 'N10059', 'N42620']\n",
      "Top 5 articles similar to N55189 from 2019-11-10 12:00:19 to 2019-11-13 12:00:19 are: ['N306', 'N871', 'N29177', 'N10059', 'N42620']\n",
      "Top 5 articles similar to N55189 from 2019-11-10 15:00:19 to 2019-11-13 15:00:19 are: ['N306', 'N871', 'N29177', 'N10059', 'N42620']\n",
      "Top 5 articles similar to N55189 from 2019-11-10 18:00:19 to 2019-11-13 18:00:19 are: ['N306', 'N29177', 'N871', 'N10059', 'N42620']\n",
      "Top 5 articles similar to N55189 from 2019-11-10 21:00:19 to 2019-11-13 21:00:19 are: ['N306', 'N871', 'N29177', 'N10059', 'N42620']\n",
      "Top 5 articles similar to N55189 from 2019-11-11 00:00:19 to 2019-11-14 00:00:19 are: ['N306', 'N871', 'N29177', 'N10059', 'N42620']\n",
      "Top 5 articles similar to N55189 from 2019-11-11 03:00:19 to 2019-11-14 03:00:19 are: ['N306', 'N871', 'N29177', 'N10059', 'N42620']\n",
      "Top 5 articles similar to N55189 from 2019-11-11 06:00:19 to 2019-11-14 06:00:19 are: ['N306', 'N871', 'N29177', 'N10059', 'N45729']\n",
      "Top 5 articles similar to N55189 from 2019-11-11 09:00:19 to 2019-11-14 09:00:19 are: ['N306', 'N871', 'N29177', 'N10059', 'N45729']\n",
      "Top 5 articles similar to N55189 from 2019-11-11 12:00:19 to 2019-11-14 12:00:19 are: ['N306', 'N871', 'N29177', 'N10059', 'N42620']\n",
      "Top 5 articles similar to N55189 from 2019-11-11 15:00:19 to 2019-11-14 15:00:19 are: ['N306', 'N871', 'N29177', 'N10059', 'N42620']\n",
      "Top 5 articles similar to N55189 from 2019-11-11 18:00:19 to 2019-11-14 18:00:19 are: ['N306', 'N871', 'N29177', 'N10059', 'N42620']\n",
      "Top 5 articles similar to N55189 from 2019-11-11 21:00:19 to 2019-11-14 21:00:19 are: ['N306', 'N871', 'N29177', 'N10059', 'N42620']\n",
      "Top 5 articles similar to N55189 from 2019-11-12 00:00:19 to 2019-11-15 00:00:19 are: ['N306', 'N871', 'N29177', 'N10059', 'N42620']\n",
      "Top 5 articles similar to N55189 from 2019-11-12 03:00:19 to 2019-11-15 03:00:19 are: ['N306', 'N871', 'N29177', 'N10059', 'N42620']\n",
      "Top 5 articles similar to N55189 from 2019-11-12 06:00:19 to 2019-11-15 06:00:19 are: ['N306', 'N871', 'N29177', 'N10059', 'N42620']\n",
      "Top 5 articles similar to N55189 from 2019-11-12 09:00:19 to 2019-11-15 09:00:19 are: ['N306', 'N871', 'N29177', 'N10059', 'N42620']\n",
      "Top 5 articles similar to N55189 from 2019-11-12 12:00:19 to 2019-11-15 12:00:19 are: ['N306', 'N871', 'N29177', 'N10059', 'N42620']\n",
      "Top 5 articles similar to N55189 from 2019-11-12 15:00:19 to 2019-11-15 15:00:19 are: ['N306', 'N871', 'N29177', 'N42620', 'N10059']\n",
      "Top 5 articles similar to N55189 from 2019-11-12 18:00:19 to 2019-11-15 18:00:19 are: ['N306', 'N871', 'N29177', 'N42620', 'N10059']\n",
      "Top 5 articles similar to N55189 from 2019-11-12 21:00:19 to 2019-11-15 21:00:19 are: ['N306', 'N871', 'N29177', 'N42620', 'N10059']\n",
      "Top 5 articles similar to N55189 from 2019-11-13 00:00:19 to 2019-11-16 00:00:19 are: ['N306', 'N871', 'N29177', 'N42620', 'N10059']\n",
      "Top 5 articles similar to N55189 from 2019-11-13 03:00:19 to 2019-11-16 03:00:19 are: ['N306', 'N871', 'N29177', 'N42620', 'N10059']\n",
      "Top 5 articles similar to N55189 from 2019-11-13 06:00:19 to 2019-11-16 06:00:19 are: ['N306', 'N871', 'N29177', 'N10059', 'N42620']\n",
      "Top 5 articles similar to N55189 from 2019-11-13 09:00:19 to 2019-11-16 09:00:19 are: ['N306', 'N871', 'N29177', 'N10059', 'N42620']\n",
      "Top 5 articles similar to N55189 from 2019-11-13 12:00:19 to 2019-11-16 12:00:19 are: ['N306', 'N871', 'N29177', 'N10059', 'N42620']\n",
      "Top 5 articles similar to N55189 from 2019-11-13 15:00:19 to 2019-11-16 15:00:19 are: ['N306', 'N871', 'N10059', 'N29177', 'N42620']\n",
      "Top 5 articles similar to N55189 from 2019-11-13 18:00:19 to 2019-11-16 18:00:19 are: ['N306', 'N871', 'N10059', 'N29177', 'N42620']\n",
      "Top 5 articles similar to N55189 from 2019-11-13 21:00:19 to 2019-11-16 21:00:19 are: ['N306', 'N871', 'N10059', 'N29177', 'N42620']\n",
      "Top 5 articles similar to N55189 from 2019-11-14 00:00:19 to 2019-11-17 00:00:19 are: ['N306', 'N871', 'N10059', 'N29177', 'N42620']\n",
      "Top 5 articles similar to N55189 from 2019-11-14 03:00:19 to 2019-11-17 03:00:19 are: ['N306', 'N871', 'N10059', 'N29177', 'N42620']\n",
      "Top 5 articles similar to N55189 from 2019-11-14 06:00:19 to 2019-11-17 06:00:19 are: ['N306', 'N871', 'N10059', 'N29177', 'N42620']\n",
      "Top 5 articles similar to N55189 from 2019-11-14 09:00:19 to 2019-11-17 09:00:19 are: ['N306', 'N871', 'N10059', 'N29177', 'N6511']\n",
      "Top 5 articles similar to N55189 from 2019-11-14 12:00:19 to 2019-11-17 12:00:19 are: ['N871', 'N10059', 'N306', 'N42620', 'N6511']\n",
      "Top 5 articles similar to N55189 from 2019-11-14 15:00:19 to 2019-11-17 15:00:19 are: ['N306', 'N10059', 'N4607', 'N871', 'N27676']\n",
      "Top 5 articles similar to N55189 from 2019-11-14 18:00:19 to 2019-11-17 18:00:19 are: ['N49745', 'N59704', 'N10059', 'N53052', 'N33969']\n",
      "Top 5 articles similar to N55189 from 2019-11-14 21:00:19 to 2019-11-17 21:00:19 are: ['N49745', 'N32555', 'N32643', 'N54589', 'N10860']\n",
      "[(Timestamp('2019-11-09 00:00:19'), ['N21746', 'N44110', 'N63248', 'N21623', 'N10343']), (Timestamp('2019-11-09 00:00:19'), ['N27676', 'N42620', 'N51112', 'N21623', 'N54225']), (Timestamp('2019-11-09 00:00:19'), ['N42620', 'N27676', 'N29177', 'N306', 'N10059']), (Timestamp('2019-11-09 00:00:19'), ['N42620', 'N27676', 'N871', 'N306', 'N10059']), (Timestamp('2019-11-09 00:00:19'), ['N42620', 'N10059', 'N306', 'N871', 'N45729']), (Timestamp('2019-11-09 00:00:19'), ['N10059', 'N306', 'N42620', 'N29177', 'N871']), (Timestamp('2019-11-09 00:00:19'), ['N10059', 'N306', 'N42620', 'N29177', 'N871']), (Timestamp('2019-11-09 00:00:19'), ['N10059', 'N306', 'N42620', 'N29177', 'N871']), (Timestamp('2019-11-09 00:00:19'), ['N10059', 'N306', 'N45794', 'N871', 'N29177']), (Timestamp('2019-11-09 00:00:19'), ['N10059', 'N306', 'N45794', 'N871', 'N29177']), (Timestamp('2019-11-09 00:00:19'), ['N10059', 'N306', 'N871', 'N45794', 'N29177']), (Timestamp('2019-11-09 00:00:19'), ['N10059', 'N306', 'N29177', 'N45794', 'N871']), (Timestamp('2019-11-09 00:00:19'), ['N10059', 'N306', 'N871', 'N29177', 'N45794']), (Timestamp('2019-11-09 00:00:19'), ['N10059', 'N306', 'N871', 'N29177', 'N45794']), (Timestamp('2019-11-09 00:00:19'), ['N306', 'N10059', 'N29177', 'N871', 'N45794']), (Timestamp('2019-11-09 00:00:19'), ['N306', 'N10059', 'N29177', 'N871', 'N45794']), (Timestamp('2019-11-09 00:00:19'), ['N306', 'N10059', 'N29177', 'N871', 'N45729']), (Timestamp('2019-11-09 00:00:19'), ['N306', 'N10059', 'N29177', 'N871', 'N45794']), (Timestamp('2019-11-09 00:00:19'), ['N306', 'N29177', 'N871', 'N45729', 'N10059']), (Timestamp('2019-11-09 00:00:19'), ['N306', 'N871', 'N29177', 'N10059', 'N45729']), (Timestamp('2019-11-09 00:00:19'), ['N306', 'N871', 'N29177', 'N10059', 'N45729']), (Timestamp('2019-11-09 00:00:19'), ['N306', 'N871', 'N29177', 'N10059', 'N45729']), (Timestamp('2019-11-09 00:00:19'), ['N306', 'N871', 'N29177', 'N10059', 'N45729']), (Timestamp('2019-11-09 03:00:19'), ['N306', 'N871', 'N29177', 'N10059', 'N45729']), (Timestamp('2019-11-09 06:00:19'), ['N306', 'N871', 'N29177', 'N10059', 'N45729']), (Timestamp('2019-11-09 09:00:19'), ['N306', 'N871', 'N29177', 'N10059', 'N45729']), (Timestamp('2019-11-09 12:00:19'), ['N306', 'N871', 'N29177', 'N10059', 'N45729']), (Timestamp('2019-11-09 15:00:19'), ['N306', 'N871', 'N29177', 'N10059', 'N45729']), (Timestamp('2019-11-09 18:00:19'), ['N306', 'N871', 'N29177', 'N10059', 'N42620']), (Timestamp('2019-11-09 21:00:19'), ['N306', 'N871', 'N29177', 'N10059', 'N42620']), (Timestamp('2019-11-10 00:00:19'), ['N306', 'N871', 'N29177', 'N10059', 'N45729']), (Timestamp('2019-11-10 03:00:19'), ['N306', 'N871', 'N29177', 'N10059', 'N45729']), (Timestamp('2019-11-10 06:00:19'), ['N306', 'N871', 'N29177', 'N10059', 'N45729']), (Timestamp('2019-11-10 09:00:19'), ['N306', 'N29177', 'N871', 'N10059', 'N42620']), (Timestamp('2019-11-10 12:00:19'), ['N306', 'N871', 'N29177', 'N10059', 'N42620']), (Timestamp('2019-11-10 15:00:19'), ['N306', 'N871', 'N29177', 'N10059', 'N42620']), (Timestamp('2019-11-10 18:00:19'), ['N306', 'N29177', 'N871', 'N10059', 'N42620']), (Timestamp('2019-11-10 21:00:19'), ['N306', 'N871', 'N29177', 'N10059', 'N42620']), (Timestamp('2019-11-11 00:00:19'), ['N306', 'N871', 'N29177', 'N10059', 'N42620']), (Timestamp('2019-11-11 03:00:19'), ['N306', 'N871', 'N29177', 'N10059', 'N42620']), (Timestamp('2019-11-11 06:00:19'), ['N306', 'N871', 'N29177', 'N10059', 'N45729']), (Timestamp('2019-11-11 09:00:19'), ['N306', 'N871', 'N29177', 'N10059', 'N45729']), (Timestamp('2019-11-11 12:00:19'), ['N306', 'N871', 'N29177', 'N10059', 'N42620']), (Timestamp('2019-11-11 15:00:19'), ['N306', 'N871', 'N29177', 'N10059', 'N42620']), (Timestamp('2019-11-11 18:00:19'), ['N306', 'N871', 'N29177', 'N10059', 'N42620']), (Timestamp('2019-11-11 21:00:19'), ['N306', 'N871', 'N29177', 'N10059', 'N42620']), (Timestamp('2019-11-12 00:00:19'), ['N306', 'N871', 'N29177', 'N10059', 'N42620']), (Timestamp('2019-11-12 03:00:19'), ['N306', 'N871', 'N29177', 'N10059', 'N42620']), (Timestamp('2019-11-12 06:00:19'), ['N306', 'N871', 'N29177', 'N10059', 'N42620']), (Timestamp('2019-11-12 09:00:19'), ['N306', 'N871', 'N29177', 'N10059', 'N42620']), (Timestamp('2019-11-12 12:00:19'), ['N306', 'N871', 'N29177', 'N10059', 'N42620']), (Timestamp('2019-11-12 15:00:19'), ['N306', 'N871', 'N29177', 'N42620', 'N10059']), (Timestamp('2019-11-12 18:00:19'), ['N306', 'N871', 'N29177', 'N42620', 'N10059']), (Timestamp('2019-11-12 21:00:19'), ['N306', 'N871', 'N29177', 'N42620', 'N10059']), (Timestamp('2019-11-13 00:00:19'), ['N306', 'N871', 'N29177', 'N42620', 'N10059']), (Timestamp('2019-11-13 03:00:19'), ['N306', 'N871', 'N29177', 'N42620', 'N10059']), (Timestamp('2019-11-13 06:00:19'), ['N306', 'N871', 'N29177', 'N10059', 'N42620']), (Timestamp('2019-11-13 09:00:19'), ['N306', 'N871', 'N29177', 'N10059', 'N42620']), (Timestamp('2019-11-13 12:00:19'), ['N306', 'N871', 'N29177', 'N10059', 'N42620']), (Timestamp('2019-11-13 15:00:19'), ['N306', 'N871', 'N10059', 'N29177', 'N42620']), (Timestamp('2019-11-13 18:00:19'), ['N306', 'N871', 'N10059', 'N29177', 'N42620']), (Timestamp('2019-11-13 21:00:19'), ['N306', 'N871', 'N10059', 'N29177', 'N42620']), (Timestamp('2019-11-14 00:00:19'), ['N306', 'N871', 'N10059', 'N29177', 'N42620']), (Timestamp('2019-11-14 03:00:19'), ['N306', 'N871', 'N10059', 'N29177', 'N42620']), (Timestamp('2019-11-14 06:00:19'), ['N306', 'N871', 'N10059', 'N29177', 'N42620']), (Timestamp('2019-11-14 09:00:19'), ['N306', 'N871', 'N10059', 'N29177', 'N6511']), (Timestamp('2019-11-14 12:00:19'), ['N871', 'N10059', 'N306', 'N42620', 'N6511']), (Timestamp('2019-11-14 15:00:19'), ['N306', 'N10059', 'N4607', 'N871', 'N27676']), (Timestamp('2019-11-14 18:00:19'), ['N49745', 'N59704', 'N10059', 'N53052', 'N33969']), (Timestamp('2019-11-14 21:00:19'), ['N49745', 'N32555', 'N32643', 'N54589', 'N10860'])]\n"
     ]
>>>>>>> Stashed changes
    }
   ],
   "source": [
    "def collaborative_filtering(news_id, top_n=5):\n",
    "    INITIAL_WINDOW_SIZE = 3\n",
    "    MAX_WINDOW_SIZE = 72\n",
    "    SLIDE_SIZE = 3\n",
    "\n",
    "    current_time = behaviors_data['timestamp'].min()\n",
    "    end_time = current_time + pd.Timedelta(hours=INITIAL_WINDOW_SIZE)\n",
    "    final_time = behaviors_data['timestamp'].max()\n",
    "\n",
    "    all_clicks_df = pd.DataFrame()\n",
    "\n",
    "    recommendations = []\n",
    "\n",
    "    while current_time + pd.Timedelta(hours=SLIDE_SIZE) <= final_time:\n",
    "        new_data = behaviors_data[(behaviors_data['timestamp'] >= current_time) & (behaviors_data['timestamp'] < end_time)]\n",
    "        new_clicks_df = user_clicks(new_data)\n",
    "        all_clicks_df = pd.concat([all_clicks_df, new_clicks_df]).drop_duplicates()\n",
    "\n",
    "        if (end_time - current_time) >= pd.Timedelta(hours=MAX_WINDOW_SIZE):\n",
    "            all_clicks_df = all_clicks_df[all_clicks_df['timestamp'] >= current_time + pd.Timedelta(hours=SLIDE_SIZE)]\n",
    "            current_time += pd.Timedelta(hours=SLIDE_SIZE)\n",
    "        end_time += pd.Timedelta(hours=SLIDE_SIZE)\n",
    "\n",
    "        if not all_clicks_df.empty:\n",
    "            interaction_matrix = create_matrix(all_clicks_df)\n",
    "            if not interaction_matrix.empty:\n",
    "                item_similarity_df = get_similarity_df(interaction_matrix)\n",
    "                similar_scores = item_similarity_df.get(news_id)\n",
    "                if similar_scores is not None and not similar_scores.empty:\n",
    "                    top_articles = similar_scores.nlargest(top_n + 1).index.tolist()\n",
    "                    if news_id in top_articles:\n",
    "                        top_articles.remove(news_id)\n",
    "                    recommendations.append((current_time, top_articles))\n",
    "                    print(f\"Top {top_n} articles similar to {news_id} from {current_time} to {end_time} are: {top_articles}\")\n",
    "                    return top_articles\n",
    "                else:\n",
    "                    print(f\"No similarity data available for {news_id} in window: [{current_time}, {end_time})\")\n",
    "            else:\n",
    "                print(\"Interaction matrix is empty.\")\n",
    "        else:\n",
    "            print(\"No clicks data available.\")\n",
    "\n",
    "    return recommendations\n",
    "\n",
<<<<<<< Updated upstream
    "collaborative_filtering('N55189', 5)"
   ]
  },
  {
   "cell_type": "markdown",
   "metadata": {},
   "source": [
    "### Evaluation of Collaborative Filtering"
   ]
  },
  {
   "cell_type": "code",
   "execution_count": 81,
   "metadata": {},
   "outputs": [
    {
     "name": "stdout",
     "output_type": "stream",
     "text": [
      "2019-11-09 00:00:19\n",
      "Start test time:    2019-11-09 06:00:19\n",
      "End test time:      2019-11-09 09:00:19\n",
      "Top 5 articles similar to N55189 from 2019-11-09 00:00:19 to 2019-11-09 06:00:19 are: ['N21746', 'N44110', 'N63248', 'N21623', 'N10343']\n",
      "Total_hits: 14 / 201\n",
      "Hit rate: 6.97%\n"
     ]
    }
   ],
   "source": [
    "MAX_WINDOW_SIZE = 72     \n",
    "SLIDE_SIZE = 3           \n",
    "\n",
    "start_time = behaviors_data['timestamp'].min()\n",
    "final_time = behaviors_data['timestamp'].max()\n",
    "print(start_time)\n",
    "\n",
    "\n",
    "current_test_time = start_time + pd.Timedelta(hours=6)\n",
    "end_test_time = current_test_time + pd.Timedelta(hours=SLIDE_SIZE)\n",
    "\n",
    "print(f\"Start test time:    {current_test_time}\")\n",
    "print(f\"End test time:      {end_test_time}\")\n",
    "\n",
    "test_data= behaviors_data[(behaviors_data['timestamp'] >= current_test_time) & (behaviors_data['timestamp'] <= end_test_time)]\n",
    "\n",
    "def calculate_hit_rate(news_id, actual, recommendations):\n",
    "    total_hits = 0\n",
    "    total_rows = 0\n",
    "    \n",
    "    #Click history that has the requested news id\n",
    "    matching_rows = actual[actual['click_history'].str.contains(news_id)]\n",
    "    \n",
    "    if not matching_rows.empty:\n",
    "        for index, row in matching_rows.iterrows():\n",
    "            if any(newsId in row['click_history'] for newsId in recommendations):\n",
    "                total_hits += 1\n",
    "            total_rows += 1\n",
    "    \n",
    "    hit_rate = total_hits / total_rows if total_rows > 0 else 0\n",
    "    print(f\"Total_hits: {total_hits} / {total_rows}\")\n",
    "    print(f\"Hit rate: {hit_rate*100:.2f}%\")\n",
    "\n",
    "calculate_hit_rate('N55189', test_data, collaborative_filtering('N55189', 5))\n"
=======
    "result = collaborative_filtering('N55189', 5)\n",
    "print(result)\n"
>>>>>>> Stashed changes
   ]
  },
  {
   "cell_type": "code",
   "execution_count": 37,
   "metadata": {},
   "outputs": [
    {
     "ename": "KeyError",
     "evalue": "'newsId'",
     "output_type": "error",
     "traceback": [
      "\u001b[0;31m---------------------------------------------------------------------------\u001b[0m",
      "\u001b[0;31mKeyError\u001b[0m                                  Traceback (most recent call last)",
      "File \u001b[0;32m/Library/Frameworks/Python.framework/Versions/3.12/lib/python3.12/site-packages/pandas/core/indexes/base.py:3790\u001b[0m, in \u001b[0;36mIndex.get_loc\u001b[0;34m(self, key)\u001b[0m\n\u001b[1;32m   3789\u001b[0m \u001b[38;5;28;01mtry\u001b[39;00m:\n\u001b[0;32m-> 3790\u001b[0m     \u001b[38;5;28;01mreturn\u001b[39;00m \u001b[38;5;28;43mself\u001b[39;49m\u001b[38;5;241;43m.\u001b[39;49m\u001b[43m_engine\u001b[49m\u001b[38;5;241;43m.\u001b[39;49m\u001b[43mget_loc\u001b[49m\u001b[43m(\u001b[49m\u001b[43mcasted_key\u001b[49m\u001b[43m)\u001b[49m\n\u001b[1;32m   3791\u001b[0m \u001b[38;5;28;01mexcept\u001b[39;00m \u001b[38;5;167;01mKeyError\u001b[39;00m \u001b[38;5;28;01mas\u001b[39;00m err:\n",
      "File \u001b[0;32mindex.pyx:152\u001b[0m, in \u001b[0;36mpandas._libs.index.IndexEngine.get_loc\u001b[0;34m()\u001b[0m\n",
      "File \u001b[0;32mindex.pyx:181\u001b[0m, in \u001b[0;36mpandas._libs.index.IndexEngine.get_loc\u001b[0;34m()\u001b[0m\n",
      "File \u001b[0;32mpandas/_libs/hashtable_class_helper.pxi:7080\u001b[0m, in \u001b[0;36mpandas._libs.hashtable.PyObjectHashTable.get_item\u001b[0;34m()\u001b[0m\n",
      "File \u001b[0;32mpandas/_libs/hashtable_class_helper.pxi:7088\u001b[0m, in \u001b[0;36mpandas._libs.hashtable.PyObjectHashTable.get_item\u001b[0;34m()\u001b[0m\n",
      "\u001b[0;31mKeyError\u001b[0m: 'newsId'",
      "\nThe above exception was the direct cause of the following exception:\n",
      "\u001b[0;31mKeyError\u001b[0m                                  Traceback (most recent call last)",
      "Cell \u001b[0;32mIn[37], line 20\u001b[0m\n\u001b[1;32m     18\u001b[0m \u001b[38;5;66;03m# Sample usage\u001b[39;00m\n\u001b[1;32m     19\u001b[0m test_user_data \u001b[38;5;241m=\u001b[39m behaviors_data\u001b[38;5;241m.\u001b[39miloc[\u001b[38;5;241m-\u001b[39m\u001b[38;5;241m1\u001b[39m]  \u001b[38;5;66;03m# Example test user data\u001b[39;00m\n\u001b[0;32m---> 20\u001b[0m recommendations \u001b[38;5;241m=\u001b[39m collaborative_filtering(\u001b[43mtest_user_data\u001b[49m\u001b[43m[\u001b[49m\u001b[38;5;124;43m'\u001b[39;49m\u001b[38;5;124;43mnewsId\u001b[39;49m\u001b[38;5;124;43m'\u001b[39;49m\u001b[43m]\u001b[49m, \u001b[38;5;241m5\u001b[39m)\n\u001b[1;32m     21\u001b[0m precision, recall, f1_score \u001b[38;5;241m=\u001b[39m evaluate_recommendations(test_user_data, recommendations)\n\u001b[1;32m     22\u001b[0m \u001b[38;5;28mprint\u001b[39m(\u001b[38;5;124mf\u001b[39m\u001b[38;5;124m\"\u001b[39m\u001b[38;5;124mPrecision: \u001b[39m\u001b[38;5;132;01m{\u001b[39;00mprecision\u001b[38;5;132;01m}\u001b[39;00m\u001b[38;5;124m, Recall: \u001b[39m\u001b[38;5;132;01m{\u001b[39;00mrecall\u001b[38;5;132;01m}\u001b[39;00m\u001b[38;5;124m, F1 Score: \u001b[39m\u001b[38;5;132;01m{\u001b[39;00mf1_score\u001b[38;5;132;01m}\u001b[39;00m\u001b[38;5;124m\"\u001b[39m)\n",
      "File \u001b[0;32m/Library/Frameworks/Python.framework/Versions/3.12/lib/python3.12/site-packages/pandas/core/series.py:1040\u001b[0m, in \u001b[0;36mSeries.__getitem__\u001b[0;34m(self, key)\u001b[0m\n\u001b[1;32m   1037\u001b[0m     \u001b[38;5;28;01mreturn\u001b[39;00m \u001b[38;5;28mself\u001b[39m\u001b[38;5;241m.\u001b[39m_values[key]\n\u001b[1;32m   1039\u001b[0m \u001b[38;5;28;01melif\u001b[39;00m key_is_scalar:\n\u001b[0;32m-> 1040\u001b[0m     \u001b[38;5;28;01mreturn\u001b[39;00m \u001b[38;5;28;43mself\u001b[39;49m\u001b[38;5;241;43m.\u001b[39;49m\u001b[43m_get_value\u001b[49m\u001b[43m(\u001b[49m\u001b[43mkey\u001b[49m\u001b[43m)\u001b[49m\n\u001b[1;32m   1042\u001b[0m \u001b[38;5;66;03m# Convert generator to list before going through hashable part\u001b[39;00m\n\u001b[1;32m   1043\u001b[0m \u001b[38;5;66;03m# (We will iterate through the generator there to check for slices)\u001b[39;00m\n\u001b[1;32m   1044\u001b[0m \u001b[38;5;28;01mif\u001b[39;00m is_iterator(key):\n",
      "File \u001b[0;32m/Library/Frameworks/Python.framework/Versions/3.12/lib/python3.12/site-packages/pandas/core/series.py:1156\u001b[0m, in \u001b[0;36mSeries._get_value\u001b[0;34m(self, label, takeable)\u001b[0m\n\u001b[1;32m   1153\u001b[0m     \u001b[38;5;28;01mreturn\u001b[39;00m \u001b[38;5;28mself\u001b[39m\u001b[38;5;241m.\u001b[39m_values[label]\n\u001b[1;32m   1155\u001b[0m \u001b[38;5;66;03m# Similar to Index.get_value, but we do not fall back to positional\u001b[39;00m\n\u001b[0;32m-> 1156\u001b[0m loc \u001b[38;5;241m=\u001b[39m \u001b[38;5;28;43mself\u001b[39;49m\u001b[38;5;241;43m.\u001b[39;49m\u001b[43mindex\u001b[49m\u001b[38;5;241;43m.\u001b[39;49m\u001b[43mget_loc\u001b[49m\u001b[43m(\u001b[49m\u001b[43mlabel\u001b[49m\u001b[43m)\u001b[49m\n\u001b[1;32m   1158\u001b[0m \u001b[38;5;28;01mif\u001b[39;00m is_integer(loc):\n\u001b[1;32m   1159\u001b[0m     \u001b[38;5;28;01mreturn\u001b[39;00m \u001b[38;5;28mself\u001b[39m\u001b[38;5;241m.\u001b[39m_values[loc]\n",
      "File \u001b[0;32m/Library/Frameworks/Python.framework/Versions/3.12/lib/python3.12/site-packages/pandas/core/indexes/base.py:3797\u001b[0m, in \u001b[0;36mIndex.get_loc\u001b[0;34m(self, key)\u001b[0m\n\u001b[1;32m   3792\u001b[0m     \u001b[38;5;28;01mif\u001b[39;00m \u001b[38;5;28misinstance\u001b[39m(casted_key, \u001b[38;5;28mslice\u001b[39m) \u001b[38;5;129;01mor\u001b[39;00m (\n\u001b[1;32m   3793\u001b[0m         \u001b[38;5;28misinstance\u001b[39m(casted_key, abc\u001b[38;5;241m.\u001b[39mIterable)\n\u001b[1;32m   3794\u001b[0m         \u001b[38;5;129;01mand\u001b[39;00m \u001b[38;5;28many\u001b[39m(\u001b[38;5;28misinstance\u001b[39m(x, \u001b[38;5;28mslice\u001b[39m) \u001b[38;5;28;01mfor\u001b[39;00m x \u001b[38;5;129;01min\u001b[39;00m casted_key)\n\u001b[1;32m   3795\u001b[0m     ):\n\u001b[1;32m   3796\u001b[0m         \u001b[38;5;28;01mraise\u001b[39;00m InvalidIndexError(key)\n\u001b[0;32m-> 3797\u001b[0m     \u001b[38;5;28;01mraise\u001b[39;00m \u001b[38;5;167;01mKeyError\u001b[39;00m(key) \u001b[38;5;28;01mfrom\u001b[39;00m \u001b[38;5;21;01merr\u001b[39;00m\n\u001b[1;32m   3798\u001b[0m \u001b[38;5;28;01mexcept\u001b[39;00m \u001b[38;5;167;01mTypeError\u001b[39;00m:\n\u001b[1;32m   3799\u001b[0m     \u001b[38;5;66;03m# If we have a listlike key, _check_indexing_error will raise\u001b[39;00m\n\u001b[1;32m   3800\u001b[0m     \u001b[38;5;66;03m#  InvalidIndexError. Otherwise we fall through and re-raise\u001b[39;00m\n\u001b[1;32m   3801\u001b[0m     \u001b[38;5;66;03m#  the TypeError.\u001b[39;00m\n\u001b[1;32m   3802\u001b[0m     \u001b[38;5;28mself\u001b[39m\u001b[38;5;241m.\u001b[39m_check_indexing_error(key)\n",
      "\u001b[0;31mKeyError\u001b[0m: 'newsId'"
     ]
    }
   ],
   "source": [
    "def evaluate_recommendations(test_data, recommendations):\n",
    "    true_positives = 0\n",
    "    total_recommended = 0\n",
    "    total_relevant = sum(len(item.split('-')[0] for item in test_data['impressions'].split() if item.endswith('-1')))\n",
    "\n",
    "    for impression_data in test_data['impressions'].split():\n",
    "        article_id, clicked = impression_data.split('-')\n",
    "        if clicked == '1':  # Relevant\n",
    "            if any(article_id in rec for _, rec in recommendations):\n",
    "                true_positives += 1\n",
    "\n",
    "    precision = true_positives / len(recommendations) if recommendations else 0\n",
    "    recall = true_positives / total_relevant if total_relevant else 0\n",
    "    f1_score = 2 * (precision * recall) / (precision + recall) if (precision + recall) else 0\n",
    "\n",
    "    return precision, recall, f1_score\n",
    "\n",
    "# Sample usage\n",
    "test_user_data = behaviors_data.iloc[-1]  # Example test user data\n",
    "recommendations = collaborative_filtering(test_user_data['newsId'], 5)\n",
    "precision, recall, f1_score = evaluate_recommendations(test_user_data, recommendations)\n",
    "print(f\"Precision: {precision}, Recall: {recall}, F1 Score: {f1_score}\")"
   ]
  },
  {
   "cell_type": "code",
   "execution_count": null,
   "metadata": {},
   "outputs": [],
   "source": []
  }
 ],
 "metadata": {
  "kernelspec": {
   "display_name": "Python 3",
   "language": "python",
   "name": "python3"
  },
  "language_info": {
   "codemirror_mode": {
    "name": "ipython",
    "version": 3
   },
   "file_extension": ".py",
   "mimetype": "text/x-python",
   "name": "python",
   "nbconvert_exporter": "python",
   "pygments_lexer": "ipython3",
   "version": "3.10.7"
  }
 },
 "nbformat": 4,
 "nbformat_minor": 2
}
