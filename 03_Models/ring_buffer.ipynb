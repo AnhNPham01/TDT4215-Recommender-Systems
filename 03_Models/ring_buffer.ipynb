{
 "cells": [
  {
   "cell_type": "code",
   "execution_count": null,
   "metadata": {},
   "outputs": [],
   "source": [
    "import pandas as pd\n",
    "import numpy as np \n",
    "from sklearn.metrics.pairwise import cosine_similarity\n",
    "import os "
   ]
  },
  {
   "cell_type": "markdown",
   "metadata": {},
   "source": [
    "### Ring buffer implementation\n",
    "\n",
    "For behaviors: Gå gjennom en sortert liste med data (radene skal være sortert på tid). Så gå gjennom impressions-listen. Der det er en -\"1\", legg til artikkelens ID i ring-buffer (dette er en artikkel som brukeren har trykket på). \n",
    "\n",
    "Så ser vi på neste bruker/rad, som nå er ukjent, siden det er utenfor tidsvinduet. Vi ser tilbake n plsser i bufferet, og gir dette som impressions til denne brukeren. Deretter sjekker vi om det denne brukeren faktisk hadde en 1er på i sin impressionliste var noen av artiklene vi anbefalte. \n",
    "\n",
    "Et problem: vi vet ikke hvilken nettavis brukerne tilhører, og vi ikek hvordan impression-listen de faktisk fikk ble generert. To brukere kan komme etter hverandre på listen av brukere når vi sorterer på tid, og lese artikler på to helt forskjellige nettaviser. Dette vil i såfall gi lav score på evalueringen."
   ]
  },
  {
   "cell_type": "code",
   "execution_count": null,
   "metadata": {},
   "outputs": [],
   "source": [
    "#path to the mindsmall training data\n",
    "training_dataset = '../MINDsmall_train'\n",
    "\n",
    "validation_dataset = '../MINDsmall_train'\n",
    "\n",
    "entity_embedding = pd.read_csv(\"../MINDsmall_train/entity_embedding.vec\", sep='\\t')\n",
    "relation_embedding = pd.read_csv(\"../MINDsmall_train/relation_embedding.vec\", sep='\\t')\n",
    "\n",
    "\n",
    "news_data = pd.read_csv(\"../MINDsmall_train/news.tsv\",\n",
    "    sep='\\t',\n",
    "    names=[\"newsId\", \"category\", \"subcategory\", \"title\",\"abstract\", \"url\", \"title_entities\",\"abstract_entities\"]\n",
    ")\n",
    "\n",
    "behaviors_data = pd.read_csv(\n",
    "    \"../MINDsmall_train/behaviors.tsv\",\n",
    "    sep='\\t',\n",
    "    names=[\"impressionId\", \"userId\", \"timestamp\", \"click_history\", \"impressions\"],\n",
    "    parse_dates=['timestamp'] \n",
    ")"
   ]
  },
  {
   "cell_type": "markdown",
   "metadata": {},
   "source": [
    "### Preprocess data"
   ]
  },
  {
   "cell_type": "code",
   "execution_count": null,
   "metadata": {},
   "outputs": [],
   "source": [
    "behaviors_data['timestamp'] = pd.to_datetime(behaviors_data['timestamp'], format='%Y-%m-%d %H:%M:%S')\n",
    "behaviors_data['clicks'] = behaviors_data['click_history'].str.split().str.len()\n",
    "behaviors_data['impressions_list'] = behaviors_data['impressions'].str.split()\n",
    "behaviors_data['impressions_count'] = behaviors_data['impressions_list'].str.len()\n",
    "\n",
    "# remove null values\n",
    "news_data = news_data.dropna().reset_index(drop=True)\n"
   ]
  },
  {
   "cell_type": "markdown",
   "metadata": {},
   "source": [
    "### Manglende verdier for clicks og click_history"
   ]
  },
  {
   "cell_type": "code",
   "execution_count": null,
   "metadata": {},
   "outputs": [],
   "source": [
    "null_clicks_rows = behaviors_data[behaviors_data['clicks'].isnull() & behaviors_data['click_history'].isnull()]\n",
    "\n",
    "# Remove the rows with null values\n",
    "behaviors_data = behaviors_data.dropna().reset_index(drop=True)"
   ]
  },
  {
   "cell_type": "code",
   "execution_count": null,
   "metadata": {},
   "outputs": [],
   "source": [
    "news_data.head()"
   ]
  },
  {
   "cell_type": "code",
   "execution_count": null,
   "metadata": {},
   "outputs": [],
   "source": [
    "behaviors_data.head()"
   ]
  },
  {
   "cell_type": "code",
   "execution_count": null,
   "metadata": {},
   "outputs": [],
   "source": [
    "# sort behaviors_data by timestamp\n",
    "behaviors_data = behaviors_data.sort_values(by='timestamp')"
   ]
  },
  {
   "cell_type": "code",
   "execution_count": null,
   "metadata": {},
   "outputs": [],
   "source": [
    "behaviors_data.head()"
   ]
  },
  {
   "cell_type": "markdown",
   "metadata": {},
   "source": [
    "### Ring buffer"
   ]
  },
  {
   "cell_type": "code",
   "execution_count": null,
   "metadata": {},
   "outputs": [],
   "source": [
    "class RingBuffer:\n",
    "    \"\"\" Ring buffer class. \"\"\"\n",
    "    def __init__(self, buffer_size):\n",
    "        self.buffer_size = buffer_size\n",
    "        self.impressions = []\n",
    "\n",
    "    class __Full:\n",
    "        \"\"\" Full buffer.\"\"\"\n",
    "        def add(self, x):\n",
    "            \"\"\" Append an element overwriting the oldest one.\"\"\"\n",
    "            self.impressions[self.pointer] = x\n",
    "            self.pointer = (self.pointer+1) % self.buffer_size\n",
    "\n",
    "        def get(self):\n",
    "            \"\"\" Return list of elements in correct order.\"\"\"\n",
    "            return self.impressions[self.pointer:] + self.impressions[:self.pointer]\n",
    "\n",
    "    def add(self,x):\n",
    "        \"\"\" Add impression to the end of the list.\"\"\"\n",
    "        self.impressions.append(x)\n",
    "        if len(self.impressions) == self.buffer_size:\n",
    "            self.pointer = 0\n",
    "            # from now on, self.__class__ refers to the __Full class\n",
    "            self.__class__ = self.__Full\n",
    "\n",
    "    def get(self):\n",
    "        \"\"\" Returns the list of impressions.\"\"\"\n",
    "        return self.impressions\n"
   ]
  },
  {
   "cell_type": "markdown",
   "metadata": {},
   "source": [
    "### Add a user's impressions to the buffer\n",
    "\n",
    "We go through the dataframe that is sorted on the timestamps. The ring buffer is instantiated, and we don't start recommending articles until we have gone through a couple of users so that the buffer has a couple of articles in it. Then we check if the recommendation from the ring buffer match up with the actual impression list for the rest of the users. "
   ]
  },
  {
   "cell_type": "code",
   "execution_count": null,
   "metadata": {},
   "outputs": [],
   "source": [
    "wait_count = 10\n",
    "max_users = wait_count + 1000\n",
    "last_user = 0\n",
    "buffer_size = 20\n",
    "ring_buffer = RingBuffer(buffer_size=buffer_size)\n",
    "recommendation_size = 20\n",
    "\n",
    "hits = 0\n",
    "total_rows = 0\n",
    "\n",
    "actual_impressions = []\n",
    "recommended_impressions = []\n",
    "\n",
    "for index, row in behaviors_data.iterrows():\n",
    "\n",
    "    user_impressions = []\n",
    "\n",
    "    if row['impressions_count'] > 0 and max_users > 0:\n",
    "        user = row['userId']\n",
    "        #the articles that the user clicked on\n",
    "        [user_impressions.append(n.split(\"-\")[0]) for n in row['impressions_list'] if n.split(\"-\")[1] == \"1\"]\n",
    "\n",
    "        # we wait for users to click on articles before we start recommending articles\n",
    "        if wait_count == 0:\n",
    "            # recommend the articles that are in the buffer \n",
    "            recommended_impressions.append((user, set(ring_buffer.get()[:recommendation_size])))\n",
    "            # store the actual articles that the user clicked on\n",
    "            actual_impressions.append((user, set(user_impressions)))\n",
    "\n",
    "        #add the current user clicks to the buffer\n",
    "        for impression in user_impressions:\n",
    "            ring_buffer.add(impression)\n",
    "\n",
    "    wait_count -= 1 if wait_count > 0 else 0\n",
    "    # we can remove this condition to get all the users\n",
    "    # max_users -= 1\n",
    "    if max_users == 0:\n",
    "        break"
   ]
  },
  {
   "cell_type": "markdown",
   "metadata": {},
   "source": [
    "### Evaluate the Ring Buffer"
   ]
  },
  {
   "cell_type": "code",
   "execution_count": null,
   "metadata": {},
   "outputs": [],
   "source": [
    "def evaluate_ring_buffer(actual, recommended):\n",
    "    total_hits = 0\n",
    "    print(f'Number of entries evaluated: {len(actual)}')\n",
    "\n",
    "    hit_rate_list = []\n",
    "\n",
    "    for i in range(len(actual)):\n",
    "        length = i + 1\n",
    "        print(f'{(total_hits / length) * 100: 2f}%')\n",
    "        hit_rate_list.append((total_hits / length) * 100)\n",
    "        # measure the accuracy of the recommendation\n",
    "        intersection = actual[i][1].intersection(recommended[i][1])\n",
    "        if len(intersection) > 0:\n",
    "            total_hits += 1\n",
    "        # print(f'Actual clicks for user {actual[i][0]}: {actual[i][1]}')\n",
    "        # print(f'Recommended articles: {recommended[i][1]}')\n",
    "        \n",
    "    # calculate the accuracy\n",
    "    hit_rate = (total_hits / len(actual) * 100)\n",
    "    print(f'Hit rate: {hit_rate}%')\n",
    "    return hit_rate_list\n",
    "\n",
    "\n",
    "\n",
    "results = evaluate_ring_buffer(actual_impressions, recommended_impressions)\n",
    "print(f'Actual impressions: {actual_impressions}')\n"
   ]
  },
  {
   "cell_type": "code",
   "execution_count": null,
   "metadata": {},
   "outputs": [],
   "source": [
    "# plot the hit rate\n",
    "import matplotlib.pyplot as plt\n",
    "size = recommendation_size\n",
    "plt.title(f'Hit Rate - Buffer Size {buffer_size} & Recommendation Size {recommendation_size}')\n",
    "\n",
    "plt.plot(results)\n",
    "plt.ylabel('Hit Rate (%)')\n",
    "plt.xlabel('User Interactions')\n",
    "\n",
    "#draw a line at the average hit rate\n",
    "plt.axhline(y=sum(results) / len(results), color='r', linestyle='--')\n",
    "plt.text(0, sum(results) / len(results), \"\",color='r')\n",
    "\n",
    "\n",
    "plt.show()\n",
    "\n",
    "\n"
   ]
  },
  {
   "cell_type": "code",
   "execution_count": null,
   "metadata": {},
   "outputs": [],
   "source": []
  }
 ],
 "metadata": {
  "kernelspec": {
   "display_name": "Python 3",
   "language": "python",
   "name": "python3"
  },
  "language_info": {
   "codemirror_mode": {
    "name": "ipython",
    "version": 3
   },
   "file_extension": ".py",
   "mimetype": "text/x-python",
   "name": "python",
   "nbconvert_exporter": "python",
   "pygments_lexer": "ipython3",
   "version": "3.12.0"
  }
 },
 "nbformat": 4,
 "nbformat_minor": 2
}
