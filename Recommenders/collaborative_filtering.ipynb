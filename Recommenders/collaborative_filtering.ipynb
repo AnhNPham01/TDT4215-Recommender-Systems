{
 "cells": [
  {
   "cell_type": "markdown",
   "metadata": {},
   "source": [
    "### Collaborative filtering\n"
   ]
  },
  {
   "cell_type": "code",
   "execution_count": 31,
   "metadata": {},
   "outputs": [],
   "source": [
    "import pandas as pd\n",
    "import numpy as np \n",
    "from sklearn.metrics.pairwise import cosine_similarity\n",
    "from scipy.sparse import csr_matrix\n",
    "from datetime import timedelta"
   ]
  },
  {
   "cell_type": "code",
   "execution_count": 32,
   "metadata": {},
   "outputs": [],
   "source": [
    "#path to the mindsmall training data\n",
    "training_dataset = '../MINDsmall_train'\n",
    "\n",
    "validation_dataset = '../MINDsmall_train'\n",
    "\n",
    "entity_embedding = pd.read_csv(\"../MINDsmall_train/entity_embedding.vec\", sep='\\t')\n",
    "relation_embedding = pd.read_csv(\"../MINDsmall_train/relation_embedding.vec\", sep='\\t')\n",
    "\n",
    "\n",
    "news_data = pd.read_csv(\"../MINDsmall_train/news.tsv\",\n",
    "    sep='\\t',\n",
    "    names=[\"newsId\", \"category\", \"subcategory\", \"title\",\"abstract\", \"url\", \"title_entities\",\"abstract_entities\"]\n",
    ")\n",
    "\n",
    "behaviors_data = pd.read_csv(\n",
    "    \"../MINDsmall_train/behaviors.tsv\",\n",
    "    sep='\\t',\n",
    "    names=[\"impressionId\", \"userId\", \"timestamp\", \"click_history\", \"impressions\"],\n",
    "    parse_dates=['timestamp'] \n",
    ")"
   ]
  },
  {
   "cell_type": "markdown",
   "metadata": {},
   "source": [
    "### Preprocess data"
   ]
  },
  {
   "cell_type": "code",
   "execution_count": 33,
   "metadata": {},
   "outputs": [],
   "source": [
    "behaviors_data['timestamp'] = pd.to_datetime(behaviors_data['timestamp'], format='%Y-%m-%d %H:%M:%S')\n",
    "behaviors_data['clicks'] = behaviors_data['click_history'].str.split().str.len()\n",
    "behaviors_data['impressions_list'] = behaviors_data['impressions'].str.split()\n",
    "behaviors_data['impressions_count'] = behaviors_data['impressions_list'].str.len()\n",
    "\n",
    "# remove null values\n",
    "news_data = news_data.dropna().reset_index(drop=True)\n"
   ]
  },
  {
   "cell_type": "markdown",
   "metadata": {},
   "source": [
    "### Remove the null values for the clicks & impressions"
   ]
  },
  {
   "cell_type": "code",
   "execution_count": 34,
   "metadata": {},
   "outputs": [],
   "source": [
    "null_clicks_rows = behaviors_data[behaviors_data['clicks'].isnull() & behaviors_data['click_history'].isnull()]\n",
    "\n",
    "# Remove the rows with null values\n",
    "behaviors_data = behaviors_data.dropna().reset_index(drop=True)"
   ]
  },
  {
   "cell_type": "code",
   "execution_count": 35,
   "metadata": {},
   "outputs": [],
   "source": [
    "# sort behaviors_data by timestamp\n",
    "behaviors_data = behaviors_data.sort_values(by='timestamp')"
   ]
  },
  {
   "cell_type": "code",
   "execution_count": 36,
   "metadata": {},
   "outputs": [
    {
     "data": {
      "text/html": [
       "<div>\n",
       "<style scoped>\n",
       "    .dataframe tbody tr th:only-of-type {\n",
       "        vertical-align: middle;\n",
       "    }\n",
       "\n",
       "    .dataframe tbody tr th {\n",
       "        vertical-align: top;\n",
       "    }\n",
       "\n",
       "    .dataframe thead th {\n",
       "        text-align: right;\n",
       "    }\n",
       "</style>\n",
       "<table border=\"1\" class=\"dataframe\">\n",
       "  <thead>\n",
       "    <tr style=\"text-align: right;\">\n",
       "      <th></th>\n",
       "      <th>newsId</th>\n",
       "      <th>category</th>\n",
       "      <th>subcategory</th>\n",
       "      <th>title</th>\n",
       "      <th>abstract</th>\n",
       "      <th>url</th>\n",
       "      <th>title_entities</th>\n",
       "      <th>abstract_entities</th>\n",
       "    </tr>\n",
       "  </thead>\n",
       "  <tbody>\n",
       "    <tr>\n",
       "      <th>0</th>\n",
       "      <td>N55528</td>\n",
       "      <td>lifestyle</td>\n",
       "      <td>lifestyleroyals</td>\n",
       "      <td>The Brands Queen Elizabeth, Prince Charles, an...</td>\n",
       "      <td>Shop the notebooks, jackets, and more that the...</td>\n",
       "      <td>https://assets.msn.com/labs/mind/AAGH0ET.html</td>\n",
       "      <td>[{\"Label\": \"Prince Philip, Duke of Edinburgh\",...</td>\n",
       "      <td>[]</td>\n",
       "    </tr>\n",
       "    <tr>\n",
       "      <th>1</th>\n",
       "      <td>N19639</td>\n",
       "      <td>health</td>\n",
       "      <td>weightloss</td>\n",
       "      <td>50 Worst Habits For Belly Fat</td>\n",
       "      <td>These seemingly harmless habits are holding yo...</td>\n",
       "      <td>https://assets.msn.com/labs/mind/AAB19MK.html</td>\n",
       "      <td>[{\"Label\": \"Adipose tissue\", \"Type\": \"C\", \"Wik...</td>\n",
       "      <td>[{\"Label\": \"Adipose tissue\", \"Type\": \"C\", \"Wik...</td>\n",
       "    </tr>\n",
       "    <tr>\n",
       "      <th>2</th>\n",
       "      <td>N61837</td>\n",
       "      <td>news</td>\n",
       "      <td>newsworld</td>\n",
       "      <td>The Cost of Trump's Aid Freeze in the Trenches...</td>\n",
       "      <td>Lt. Ivan Molchanets peeked over a parapet of s...</td>\n",
       "      <td>https://assets.msn.com/labs/mind/AAJgNsz.html</td>\n",
       "      <td>[]</td>\n",
       "      <td>[{\"Label\": \"Ukraine\", \"Type\": \"G\", \"WikidataId...</td>\n",
       "    </tr>\n",
       "    <tr>\n",
       "      <th>3</th>\n",
       "      <td>N53526</td>\n",
       "      <td>health</td>\n",
       "      <td>voices</td>\n",
       "      <td>I Was An NBA Wife. Here's How It Affected My M...</td>\n",
       "      <td>I felt like I was a fraud, and being an NBA wi...</td>\n",
       "      <td>https://assets.msn.com/labs/mind/AACk2N6.html</td>\n",
       "      <td>[]</td>\n",
       "      <td>[{\"Label\": \"National Basketball Association\", ...</td>\n",
       "    </tr>\n",
       "    <tr>\n",
       "      <th>4</th>\n",
       "      <td>N38324</td>\n",
       "      <td>health</td>\n",
       "      <td>medical</td>\n",
       "      <td>How to Get Rid of Skin Tags, According to a De...</td>\n",
       "      <td>They seem harmless, but there's a very good re...</td>\n",
       "      <td>https://assets.msn.com/labs/mind/AAAKEkt.html</td>\n",
       "      <td>[{\"Label\": \"Skin tag\", \"Type\": \"C\", \"WikidataI...</td>\n",
       "      <td>[{\"Label\": \"Skin tag\", \"Type\": \"C\", \"WikidataI...</td>\n",
       "    </tr>\n",
       "  </tbody>\n",
       "</table>\n",
       "</div>"
      ],
      "text/plain": [
       "   newsId   category      subcategory  \\\n",
       "0  N55528  lifestyle  lifestyleroyals   \n",
       "1  N19639     health       weightloss   \n",
       "2  N61837       news        newsworld   \n",
       "3  N53526     health           voices   \n",
       "4  N38324     health          medical   \n",
       "\n",
       "                                               title  \\\n",
       "0  The Brands Queen Elizabeth, Prince Charles, an...   \n",
       "1                      50 Worst Habits For Belly Fat   \n",
       "2  The Cost of Trump's Aid Freeze in the Trenches...   \n",
       "3  I Was An NBA Wife. Here's How It Affected My M...   \n",
       "4  How to Get Rid of Skin Tags, According to a De...   \n",
       "\n",
       "                                            abstract  \\\n",
       "0  Shop the notebooks, jackets, and more that the...   \n",
       "1  These seemingly harmless habits are holding yo...   \n",
       "2  Lt. Ivan Molchanets peeked over a parapet of s...   \n",
       "3  I felt like I was a fraud, and being an NBA wi...   \n",
       "4  They seem harmless, but there's a very good re...   \n",
       "\n",
       "                                             url  \\\n",
       "0  https://assets.msn.com/labs/mind/AAGH0ET.html   \n",
       "1  https://assets.msn.com/labs/mind/AAB19MK.html   \n",
       "2  https://assets.msn.com/labs/mind/AAJgNsz.html   \n",
       "3  https://assets.msn.com/labs/mind/AACk2N6.html   \n",
       "4  https://assets.msn.com/labs/mind/AAAKEkt.html   \n",
       "\n",
       "                                      title_entities  \\\n",
       "0  [{\"Label\": \"Prince Philip, Duke of Edinburgh\",...   \n",
       "1  [{\"Label\": \"Adipose tissue\", \"Type\": \"C\", \"Wik...   \n",
       "2                                                 []   \n",
       "3                                                 []   \n",
       "4  [{\"Label\": \"Skin tag\", \"Type\": \"C\", \"WikidataI...   \n",
       "\n",
       "                                   abstract_entities  \n",
       "0                                                 []  \n",
       "1  [{\"Label\": \"Adipose tissue\", \"Type\": \"C\", \"Wik...  \n",
       "2  [{\"Label\": \"Ukraine\", \"Type\": \"G\", \"WikidataId...  \n",
       "3  [{\"Label\": \"National Basketball Association\", ...  \n",
       "4  [{\"Label\": \"Skin tag\", \"Type\": \"C\", \"WikidataI...  "
      ]
     },
     "execution_count": 36,
     "metadata": {},
     "output_type": "execute_result"
    }
   ],
   "source": [
    "news_data.head()"
   ]
  },
  {
   "cell_type": "code",
   "execution_count": 37,
   "metadata": {},
   "outputs": [
    {
     "data": {
      "text/html": [
       "<div>\n",
       "<style scoped>\n",
       "    .dataframe tbody tr th:only-of-type {\n",
       "        vertical-align: middle;\n",
       "    }\n",
       "\n",
       "    .dataframe tbody tr th {\n",
       "        vertical-align: top;\n",
       "    }\n",
       "\n",
       "    .dataframe thead th {\n",
       "        text-align: right;\n",
       "    }\n",
       "</style>\n",
       "<table border=\"1\" class=\"dataframe\">\n",
       "  <thead>\n",
       "    <tr style=\"text-align: right;\">\n",
       "      <th></th>\n",
       "      <th>impressionId</th>\n",
       "      <th>userId</th>\n",
       "      <th>timestamp</th>\n",
       "      <th>click_history</th>\n",
       "      <th>impressions</th>\n",
       "      <th>clicks</th>\n",
       "      <th>impressions_list</th>\n",
       "      <th>impressions_count</th>\n",
       "    </tr>\n",
       "  </thead>\n",
       "  <tbody>\n",
       "    <tr>\n",
       "      <th>19705</th>\n",
       "      <td>20112</td>\n",
       "      <td>U65916</td>\n",
       "      <td>2019-11-09 00:00:19</td>\n",
       "      <td>N51706 N40767 N12096 N9798 N38802 N54827 N5780...</td>\n",
       "      <td>N54300-0 N46057-1 N57005-0 N52154-0 N57099-0 N...</td>\n",
       "      <td>15.0</td>\n",
       "      <td>[N54300-0, N46057-1, N57005-0, N52154-0, N5709...</td>\n",
       "      <td>31</td>\n",
       "    </tr>\n",
       "    <tr>\n",
       "      <th>13531</th>\n",
       "      <td>13807</td>\n",
       "      <td>U49985</td>\n",
       "      <td>2019-11-09 00:01:13</td>\n",
       "      <td>N5056 N29975 N53234 N39603 N50032 N8422 N53580...</td>\n",
       "      <td>N20602-0 N50059-0 N57768-1 N50135-1 N15134-0 N...</td>\n",
       "      <td>93.0</td>\n",
       "      <td>[N20602-0, N50059-0, N57768-1, N50135-1, N1513...</td>\n",
       "      <td>29</td>\n",
       "    </tr>\n",
       "    <tr>\n",
       "      <th>27115</th>\n",
       "      <td>27660</td>\n",
       "      <td>U25550</td>\n",
       "      <td>2019-11-09 00:02:44</td>\n",
       "      <td>N17260 N38298 N33976 N47719 N14888 N18870 N4607</td>\n",
       "      <td>N50135-0 N15134-0 N52433-1 N20602-0 N64536-0</td>\n",
       "      <td>7.0</td>\n",
       "      <td>[N50135-0, N15134-0, N52433-1, N20602-0, N6453...</td>\n",
       "      <td>5</td>\n",
       "    </tr>\n",
       "    <tr>\n",
       "      <th>149080</th>\n",
       "      <td>152217</td>\n",
       "      <td>U19710</td>\n",
       "      <td>2019-11-09 00:02:50</td>\n",
       "      <td>N3530 N48284 N43019 N62546 N138 N13138 N10676 ...</td>\n",
       "      <td>N57099-0 N30295-0 N21086-0 N5379-0 N57005-0 N4...</td>\n",
       "      <td>8.0</td>\n",
       "      <td>[N57099-0, N30295-0, N21086-0, N5379-0, N57005...</td>\n",
       "      <td>56</td>\n",
       "    </tr>\n",
       "    <tr>\n",
       "      <th>41348</th>\n",
       "      <td>42166</td>\n",
       "      <td>U38106</td>\n",
       "      <td>2019-11-09 00:03:09</td>\n",
       "      <td>N16874 N264 N48697 N51366</td>\n",
       "      <td>N3491-0 N20602-0 N25785-0 N23575-0 N38783-0 N1...</td>\n",
       "      <td>4.0</td>\n",
       "      <td>[N3491-0, N20602-0, N25785-0, N23575-0, N38783...</td>\n",
       "      <td>48</td>\n",
       "    </tr>\n",
       "  </tbody>\n",
       "</table>\n",
       "</div>"
      ],
      "text/plain": [
       "        impressionId  userId           timestamp  \\\n",
       "19705          20112  U65916 2019-11-09 00:00:19   \n",
       "13531          13807  U49985 2019-11-09 00:01:13   \n",
       "27115          27660  U25550 2019-11-09 00:02:44   \n",
       "149080        152217  U19710 2019-11-09 00:02:50   \n",
       "41348          42166  U38106 2019-11-09 00:03:09   \n",
       "\n",
       "                                            click_history  \\\n",
       "19705   N51706 N40767 N12096 N9798 N38802 N54827 N5780...   \n",
       "13531   N5056 N29975 N53234 N39603 N50032 N8422 N53580...   \n",
       "27115     N17260 N38298 N33976 N47719 N14888 N18870 N4607   \n",
       "149080  N3530 N48284 N43019 N62546 N138 N13138 N10676 ...   \n",
       "41348                           N16874 N264 N48697 N51366   \n",
       "\n",
       "                                              impressions  clicks  \\\n",
       "19705   N54300-0 N46057-1 N57005-0 N52154-0 N57099-0 N...    15.0   \n",
       "13531   N20602-0 N50059-0 N57768-1 N50135-1 N15134-0 N...    93.0   \n",
       "27115        N50135-0 N15134-0 N52433-1 N20602-0 N64536-0     7.0   \n",
       "149080  N57099-0 N30295-0 N21086-0 N5379-0 N57005-0 N4...     8.0   \n",
       "41348   N3491-0 N20602-0 N25785-0 N23575-0 N38783-0 N1...     4.0   \n",
       "\n",
       "                                         impressions_list  impressions_count  \n",
       "19705   [N54300-0, N46057-1, N57005-0, N52154-0, N5709...                 31  \n",
       "13531   [N20602-0, N50059-0, N57768-1, N50135-1, N1513...                 29  \n",
       "27115   [N50135-0, N15134-0, N52433-1, N20602-0, N6453...                  5  \n",
       "149080  [N57099-0, N30295-0, N21086-0, N5379-0, N57005...                 56  \n",
       "41348   [N3491-0, N20602-0, N25785-0, N23575-0, N38783...                 48  "
      ]
     },
     "execution_count": 37,
     "metadata": {},
     "output_type": "execute_result"
    }
   ],
   "source": [
    "behaviors_data.head()"
   ]
  },
  {
   "cell_type": "markdown",
   "metadata": {},
   "source": [
    "### Sliding window"
   ]
  },
  {
   "cell_type": "code",
   "execution_count": 38,
   "metadata": {},
   "outputs": [],
   "source": [
    "train_window_size = 6\n",
    "test_window_size = 3\n",
    "\n",
    "behaviors_data['timestamp'] = behaviors_data['timestamp'].dt.hour\n",
    "\n",
    "start_time = 0\n",
    "end_time = train_window_size\n",
    "recommendations = []\n",
    "\n",
    "\n",
    "def sliding_window(start_time, end_time, test_window_size=3):\n",
    "    training_data = behaviors_data[(behaviors_data['timestamp'] >= start_time) & (behaviors_data['timestamp'] < end_time)]\n",
    "    test_data = behaviors_data[(behaviors_data['timestamp'] >= end_time) & (behaviors_data['timestamp'] < end_time + test_window_size)]\n",
    "    \n",
    "    start_time += test_window_size\n",
    "    end_time += test_window_size\n",
    "    return training_data, test_data, start_time\n"
   ]
  },
  {
   "cell_type": "code",
   "execution_count": 39,
   "metadata": {},
   "outputs": [],
   "source": [
    "def user_clicks(training_data):\n",
    "    click_history = training_data.dropna(subset=['click_history'])\n",
    "    all_clicks = []\n",
    "    for index, row in click_history.iterrows():\n",
    "        user_id = row['userId']\n",
    "        for news_id in row['click_history'].split():\n",
    "            all_clicks.append([user_id, news_id, 1])\n",
    "    return pd.DataFrame(all_clicks, columns=['userId', 'newsId', 'click'])\n",
    "\n",
    "# click_history = behaviors_data.dropna(subset=['click_history'])\n",
    "\n",
    "# all_clicks = []\n",
    "# for index, row in click_history.iterrows():\n",
    "#     user_id = row['userId']\n",
    "#     for news_id in row['click_history'].split():\n",
    "#         all_clicks.append([user_id, news_id, 1])\n",
    "\n",
    "# clicks_df = pd.DataFrame(all_clicks, columns=['userId', 'newsId', 'interaction'])\n"
   ]
  },
  {
   "cell_type": "code",
   "execution_count": 40,
   "metadata": {},
   "outputs": [],
   "source": [
    "# clicks_df = user_clicks(sliding_window(behaviors_data, 1, 1))\n",
    "\n",
    "\n",
    "# interaction_matrix = clicks_df.pivot_table(index='userId', columns='newsId', values='interaction', fill_value=0)\n",
    "\n",
    "# # Sparse matrix\n",
    "# interaction_sparse = csr_matrix(interaction_matrix.values)\n",
    "\n",
    "# # Cosine similarity\n",
    "# item_similarity = cosine_similarity(interaction_sparse.T)\n",
    "\n",
    "\n",
    "# # Create a dataframe from the similarity scores\n",
    "# item_similarity_df = pd.DataFrame(item_similarity, index=interaction_matrix.columns, columns=interaction_matrix.columns)\n",
    "\n",
    "def create_matrix(clicks_df):\n",
    "    interaction_matrix = clicks_df.pivot_table(index='userId', columns='newsId', values='interaction', fill_value=0)\n",
    "    return interaction_matrix\n",
    "\n",
    "def get_similarity_df(interaction_matrix):\n",
    "    interaction_sparse = csr_matrix(interaction_matrix.values)\n",
    "    item_similarity = cosine_similarity(interaction_sparse.T)\n",
    "    item_similarity_df = pd.DataFrame(item_similarity, index=interaction_matrix.columns, columns=interaction_matrix.columns)\n",
    "    return item_similarity_df"
   ]
  },
  {
   "cell_type": "code",
   "execution_count": 41,
   "metadata": {},
   "outputs": [
    {
     "ename": "KeyError",
     "evalue": "'interaction'",
     "output_type": "error",
     "traceback": [
      "\u001b[0;31m---------------------------------------------------------------------------\u001b[0m",
      "\u001b[0;31mKeyError\u001b[0m                                  Traceback (most recent call last)",
      "Cell \u001b[0;32mIn[41], line 1\u001b[0m\n\u001b[0;32m----> 1\u001b[0m item_similarity_df \u001b[38;5;241m=\u001b[39m get_similarity_df(\u001b[43mcreate_matrix\u001b[49m\u001b[43m(\u001b[49m\u001b[43muser_clicks\u001b[49m\u001b[43m(\u001b[49m\u001b[43msliding_window\u001b[49m\u001b[43m(\u001b[49m\u001b[38;5;241;43m0\u001b[39;49m\u001b[43m,\u001b[49m\u001b[43m \u001b[49m\u001b[38;5;241;43m6\u001b[39;49m\u001b[43m,\u001b[49m\u001b[43m \u001b[49m\u001b[38;5;241;43m3\u001b[39;49m\u001b[43m)\u001b[49m\u001b[43m[\u001b[49m\u001b[38;5;241;43m0\u001b[39;49m\u001b[43m]\u001b[49m\u001b[43m)\u001b[49m\u001b[43m)\u001b[49m)\n\u001b[1;32m      4\u001b[0m \u001b[38;5;28;01mdef\u001b[39;00m \u001b[38;5;21mrecommend_articles\u001b[39m(news_id, top_n\u001b[38;5;241m=\u001b[39m\u001b[38;5;241m5\u001b[39m):\n\u001b[1;32m      5\u001b[0m     similar_scores \u001b[38;5;241m=\u001b[39m item_similarity_df[news_id]\n",
      "Cell \u001b[0;32mIn[40], line 17\u001b[0m, in \u001b[0;36mcreate_matrix\u001b[0;34m(clicks_df)\u001b[0m\n\u001b[1;32m     16\u001b[0m \u001b[38;5;28;01mdef\u001b[39;00m \u001b[38;5;21mcreate_matrix\u001b[39m(clicks_df):\n\u001b[0;32m---> 17\u001b[0m     interaction_matrix \u001b[38;5;241m=\u001b[39m \u001b[43mclicks_df\u001b[49m\u001b[38;5;241;43m.\u001b[39;49m\u001b[43mpivot_table\u001b[49m\u001b[43m(\u001b[49m\u001b[43mindex\u001b[49m\u001b[38;5;241;43m=\u001b[39;49m\u001b[38;5;124;43m'\u001b[39;49m\u001b[38;5;124;43muserId\u001b[39;49m\u001b[38;5;124;43m'\u001b[39;49m\u001b[43m,\u001b[49m\u001b[43m \u001b[49m\u001b[43mcolumns\u001b[49m\u001b[38;5;241;43m=\u001b[39;49m\u001b[38;5;124;43m'\u001b[39;49m\u001b[38;5;124;43mnewsId\u001b[39;49m\u001b[38;5;124;43m'\u001b[39;49m\u001b[43m,\u001b[49m\u001b[43m \u001b[49m\u001b[43mvalues\u001b[49m\u001b[38;5;241;43m=\u001b[39;49m\u001b[38;5;124;43m'\u001b[39;49m\u001b[38;5;124;43minteraction\u001b[39;49m\u001b[38;5;124;43m'\u001b[39;49m\u001b[43m,\u001b[49m\u001b[43m \u001b[49m\u001b[43mfill_value\u001b[49m\u001b[38;5;241;43m=\u001b[39;49m\u001b[38;5;241;43m0\u001b[39;49m\u001b[43m)\u001b[49m\n\u001b[1;32m     18\u001b[0m     \u001b[38;5;28;01mreturn\u001b[39;00m interaction_matrix\n",
      "File \u001b[0;32m/Library/Frameworks/Python.framework/Versions/3.12/lib/python3.12/site-packages/pandas/core/frame.py:9190\u001b[0m, in \u001b[0;36mDataFrame.pivot_table\u001b[0;34m(self, values, index, columns, aggfunc, fill_value, margins, dropna, margins_name, observed, sort)\u001b[0m\n\u001b[1;32m   9173\u001b[0m \u001b[38;5;129m@Substitution\u001b[39m(\u001b[38;5;124m\"\u001b[39m\u001b[38;5;124m\"\u001b[39m)\n\u001b[1;32m   9174\u001b[0m \u001b[38;5;129m@Appender\u001b[39m(_shared_docs[\u001b[38;5;124m\"\u001b[39m\u001b[38;5;124mpivot_table\u001b[39m\u001b[38;5;124m\"\u001b[39m])\n\u001b[1;32m   9175\u001b[0m \u001b[38;5;28;01mdef\u001b[39;00m \u001b[38;5;21mpivot_table\u001b[39m(\n\u001b[0;32m   (...)\u001b[0m\n\u001b[1;32m   9186\u001b[0m     sort: \u001b[38;5;28mbool\u001b[39m \u001b[38;5;241m=\u001b[39m \u001b[38;5;28;01mTrue\u001b[39;00m,\n\u001b[1;32m   9187\u001b[0m ) \u001b[38;5;241m-\u001b[39m\u001b[38;5;241m>\u001b[39m DataFrame:\n\u001b[1;32m   9188\u001b[0m     \u001b[38;5;28;01mfrom\u001b[39;00m \u001b[38;5;21;01mpandas\u001b[39;00m\u001b[38;5;21;01m.\u001b[39;00m\u001b[38;5;21;01mcore\u001b[39;00m\u001b[38;5;21;01m.\u001b[39;00m\u001b[38;5;21;01mreshape\u001b[39;00m\u001b[38;5;21;01m.\u001b[39;00m\u001b[38;5;21;01mpivot\u001b[39;00m \u001b[38;5;28;01mimport\u001b[39;00m pivot_table\n\u001b[0;32m-> 9190\u001b[0m     \u001b[38;5;28;01mreturn\u001b[39;00m \u001b[43mpivot_table\u001b[49m\u001b[43m(\u001b[49m\n\u001b[1;32m   9191\u001b[0m \u001b[43m        \u001b[49m\u001b[38;5;28;43mself\u001b[39;49m\u001b[43m,\u001b[49m\n\u001b[1;32m   9192\u001b[0m \u001b[43m        \u001b[49m\u001b[43mvalues\u001b[49m\u001b[38;5;241;43m=\u001b[39;49m\u001b[43mvalues\u001b[49m\u001b[43m,\u001b[49m\n\u001b[1;32m   9193\u001b[0m \u001b[43m        \u001b[49m\u001b[43mindex\u001b[49m\u001b[38;5;241;43m=\u001b[39;49m\u001b[43mindex\u001b[49m\u001b[43m,\u001b[49m\n\u001b[1;32m   9194\u001b[0m \u001b[43m        \u001b[49m\u001b[43mcolumns\u001b[49m\u001b[38;5;241;43m=\u001b[39;49m\u001b[43mcolumns\u001b[49m\u001b[43m,\u001b[49m\n\u001b[1;32m   9195\u001b[0m \u001b[43m        \u001b[49m\u001b[43maggfunc\u001b[49m\u001b[38;5;241;43m=\u001b[39;49m\u001b[43maggfunc\u001b[49m\u001b[43m,\u001b[49m\n\u001b[1;32m   9196\u001b[0m \u001b[43m        \u001b[49m\u001b[43mfill_value\u001b[49m\u001b[38;5;241;43m=\u001b[39;49m\u001b[43mfill_value\u001b[49m\u001b[43m,\u001b[49m\n\u001b[1;32m   9197\u001b[0m \u001b[43m        \u001b[49m\u001b[43mmargins\u001b[49m\u001b[38;5;241;43m=\u001b[39;49m\u001b[43mmargins\u001b[49m\u001b[43m,\u001b[49m\n\u001b[1;32m   9198\u001b[0m \u001b[43m        \u001b[49m\u001b[43mdropna\u001b[49m\u001b[38;5;241;43m=\u001b[39;49m\u001b[43mdropna\u001b[49m\u001b[43m,\u001b[49m\n\u001b[1;32m   9199\u001b[0m \u001b[43m        \u001b[49m\u001b[43mmargins_name\u001b[49m\u001b[38;5;241;43m=\u001b[39;49m\u001b[43mmargins_name\u001b[49m\u001b[43m,\u001b[49m\n\u001b[1;32m   9200\u001b[0m \u001b[43m        \u001b[49m\u001b[43mobserved\u001b[49m\u001b[38;5;241;43m=\u001b[39;49m\u001b[43mobserved\u001b[49m\u001b[43m,\u001b[49m\n\u001b[1;32m   9201\u001b[0m \u001b[43m        \u001b[49m\u001b[43msort\u001b[49m\u001b[38;5;241;43m=\u001b[39;49m\u001b[43msort\u001b[49m\u001b[43m,\u001b[49m\n\u001b[1;32m   9202\u001b[0m \u001b[43m    \u001b[49m\u001b[43m)\u001b[49m\n",
      "File \u001b[0;32m/Library/Frameworks/Python.framework/Versions/3.12/lib/python3.12/site-packages/pandas/core/reshape/pivot.py:99\u001b[0m, in \u001b[0;36mpivot_table\u001b[0;34m(data, values, index, columns, aggfunc, fill_value, margins, dropna, margins_name, observed, sort)\u001b[0m\n\u001b[1;32m     96\u001b[0m     table \u001b[38;5;241m=\u001b[39m concat(pieces, keys\u001b[38;5;241m=\u001b[39mkeys, axis\u001b[38;5;241m=\u001b[39m\u001b[38;5;241m1\u001b[39m)\n\u001b[1;32m     97\u001b[0m     \u001b[38;5;28;01mreturn\u001b[39;00m table\u001b[38;5;241m.\u001b[39m__finalize__(data, method\u001b[38;5;241m=\u001b[39m\u001b[38;5;124m\"\u001b[39m\u001b[38;5;124mpivot_table\u001b[39m\u001b[38;5;124m\"\u001b[39m)\n\u001b[0;32m---> 99\u001b[0m table \u001b[38;5;241m=\u001b[39m \u001b[43m__internal_pivot_table\u001b[49m\u001b[43m(\u001b[49m\n\u001b[1;32m    100\u001b[0m \u001b[43m    \u001b[49m\u001b[43mdata\u001b[49m\u001b[43m,\u001b[49m\n\u001b[1;32m    101\u001b[0m \u001b[43m    \u001b[49m\u001b[43mvalues\u001b[49m\u001b[43m,\u001b[49m\n\u001b[1;32m    102\u001b[0m \u001b[43m    \u001b[49m\u001b[43mindex\u001b[49m\u001b[43m,\u001b[49m\n\u001b[1;32m    103\u001b[0m \u001b[43m    \u001b[49m\u001b[43mcolumns\u001b[49m\u001b[43m,\u001b[49m\n\u001b[1;32m    104\u001b[0m \u001b[43m    \u001b[49m\u001b[43maggfunc\u001b[49m\u001b[43m,\u001b[49m\n\u001b[1;32m    105\u001b[0m \u001b[43m    \u001b[49m\u001b[43mfill_value\u001b[49m\u001b[43m,\u001b[49m\n\u001b[1;32m    106\u001b[0m \u001b[43m    \u001b[49m\u001b[43mmargins\u001b[49m\u001b[43m,\u001b[49m\n\u001b[1;32m    107\u001b[0m \u001b[43m    \u001b[49m\u001b[43mdropna\u001b[49m\u001b[43m,\u001b[49m\n\u001b[1;32m    108\u001b[0m \u001b[43m    \u001b[49m\u001b[43mmargins_name\u001b[49m\u001b[43m,\u001b[49m\n\u001b[1;32m    109\u001b[0m \u001b[43m    \u001b[49m\u001b[43mobserved\u001b[49m\u001b[43m,\u001b[49m\n\u001b[1;32m    110\u001b[0m \u001b[43m    \u001b[49m\u001b[43msort\u001b[49m\u001b[43m,\u001b[49m\n\u001b[1;32m    111\u001b[0m \u001b[43m\u001b[49m\u001b[43m)\u001b[49m\n\u001b[1;32m    112\u001b[0m \u001b[38;5;28;01mreturn\u001b[39;00m table\u001b[38;5;241m.\u001b[39m__finalize__(data, method\u001b[38;5;241m=\u001b[39m\u001b[38;5;124m\"\u001b[39m\u001b[38;5;124mpivot_table\u001b[39m\u001b[38;5;124m\"\u001b[39m)\n",
      "File \u001b[0;32m/Library/Frameworks/Python.framework/Versions/3.12/lib/python3.12/site-packages/pandas/core/reshape/pivot.py:145\u001b[0m, in \u001b[0;36m__internal_pivot_table\u001b[0;34m(data, values, index, columns, aggfunc, fill_value, margins, dropna, margins_name, observed, sort)\u001b[0m\n\u001b[1;32m    143\u001b[0m \u001b[38;5;28;01mfor\u001b[39;00m i \u001b[38;5;129;01min\u001b[39;00m values:\n\u001b[1;32m    144\u001b[0m     \u001b[38;5;28;01mif\u001b[39;00m i \u001b[38;5;129;01mnot\u001b[39;00m \u001b[38;5;129;01min\u001b[39;00m data:\n\u001b[0;32m--> 145\u001b[0m         \u001b[38;5;28;01mraise\u001b[39;00m \u001b[38;5;167;01mKeyError\u001b[39;00m(i)\n\u001b[1;32m    147\u001b[0m to_filter \u001b[38;5;241m=\u001b[39m []\n\u001b[1;32m    148\u001b[0m \u001b[38;5;28;01mfor\u001b[39;00m x \u001b[38;5;129;01min\u001b[39;00m keys \u001b[38;5;241m+\u001b[39m values:\n",
      "\u001b[0;31mKeyError\u001b[0m: 'interaction'"
     ]
    }
   ],
   "source": [
    "item_similarity_df = get_similarity_df(create_matrix(user_clicks(sliding_window(0, 6, 3)[0])))\n",
    "\n",
    "\n",
    "def recommend_articles(news_id, top_n=5):\n",
    "    similar_scores = item_similarity_df[news_id]\n",
    "    top_articles = similar_scores.nlargest(top_n + 1).index.tolist()\n",
    "    top_articles.remove(news_id) \n",
    "    return top_articles\n",
    "\n",
    "# Example: Get top 5 articles similar to 'N55528' (example newsId)\n",
    "print(recommend_articles('N55528', 5))\n",
    "result = recommend_articles('N55528', 5)"
   ]
  },
  {
   "cell_type": "code",
   "execution_count": null,
   "metadata": {},
   "outputs": [
    {
     "name": "stdout",
     "output_type": "stream",
     "text": [
      "Title of input article:\n",
      " The Brands Queen Elizabeth, Prince Charles, and Prince Philip Swear By\n",
      "\n",
      "\n",
      "Title of recommended articles:\n",
      "\n",
      "7 money-saving tips that can steer you wrong\n",
      "25 things you should never buy   and what to buy instead\n",
      "'The Subtle Art of Not Giving a F*ck' and 5 other self-help books to help us get over ourselves\n",
      "Common Joint Pain Treatment Dubbed 'Unsafe' By Experts\n",
      "JFK is America's largest mail room. Here's how customs searches 1 million mail packages a day for drugs and counterfeit goods.\n"
     ]
    }
   ],
   "source": [
    "# print title of article 'N55528'\n",
    "print(\"Title of input article:\\n\", news_data[news_data['newsId'] == 'N55528']['title'].values[0])\n",
    "print(\"\\n\")\n",
    "print(\"Title of recommended articles:\\n\")\n",
    "print(news_data[news_data['newsId'] == result[0]]['title'].values[0])\n",
    "\n",
    "print(news_data[news_data['newsId'] == result[1]]['title'].values[0])\n",
    "\n",
    "print(news_data[news_data['newsId'] == result[2]]['title'].values[0])\n",
    "\n",
    "print(news_data[news_data['newsId'] == result[3]]['title'].values[0])\n",
    "\n",
    "print(news_data[news_data['newsId'] == result[4]]['title'].values[0])"
   ]
  },
  {
   "cell_type": "markdown",
   "metadata": {},
   "source": [
    "### Collaborative filtering"
   ]
  },
  {
   "cell_type": "code",
   "execution_count": null,
   "metadata": {},
   "outputs": [
    {
     "name": "stdout",
     "output_type": "stream",
     "text": [
      "\n"
     ]
    }
   ],
   "source": [
    "        \n",
    "\n",
    "def collaborative_filtering(training_data, test_data):\n",
    "\n",
    "    # Function to create a user-item interaction matrix from behaviors data\n",
    "    def create_interaction_matrix(data):\n",
    "        all_clicks = []\n",
    "        for index, row in data.dropna(subset=['click_history']).iterrows():\n",
    "            user_id = row['userId']\n",
    "            for news_id in row['click_history'].split():\n",
    "                all_clicks.append([user_id, news_id, 1])\n",
    "        clicks_df = pd.DataFrame(all_clicks, columns=['userId', 'newsId', 'interaction'])\n",
    "        return clicks_df.pivot_table(index='userId', columns='newsId', values='interaction', fill_value=0)\n",
    "\n",
    "    # Create interaction matrices for training and testing\n",
    "    train_interaction_matrix = create_interaction_matrix(train_data)\n",
    "    test_interaction_matrix = create_interaction_matrix(test_data)\n",
    "\n",
    "\n"
   ]
  }
 ],
 "metadata": {
  "kernelspec": {
   "display_name": "Python 3",
   "language": "python",
   "name": "python3"
  },
  "language_info": {
   "codemirror_mode": {
    "name": "ipython",
    "version": 3
   },
   "file_extension": ".py",
   "mimetype": "text/x-python",
   "name": "python",
   "nbconvert_exporter": "python",
   "pygments_lexer": "ipython3",
   "version": "3.12.0"
  }
 },
 "nbformat": 4,
 "nbformat_minor": 2
}
