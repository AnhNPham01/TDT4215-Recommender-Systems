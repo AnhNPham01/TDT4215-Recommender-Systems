{
 "cells": [
  {
   "cell_type": "markdown",
   "metadata": {},
   "source": [
    "### Collaborative filtering\n"
   ]
  },
  {
   "cell_type": "code",
   "execution_count": 93,
   "metadata": {},
   "outputs": [],
   "source": [
    "import pandas as pd\n",
    "import numpy as np \n",
    "from sklearn.metrics.pairwise import cosine_similarity\n",
    "from scipy.sparse import csr_matrix\n",
    "from datetime import timedelta"
   ]
  },
  {
   "cell_type": "code",
   "execution_count": 94,
   "metadata": {},
   "outputs": [],
   "source": [
    "#path to the mindsmall training data\n",
    "training_dataset = '../MINDsmall_train'\n",
    "\n",
    "validation_dataset = '../MINDsmall_train'\n",
    "\n",
    "entity_embedding = pd.read_csv(\"../MINDsmall_train/entity_embedding.vec\", sep='\\t')\n",
    "relation_embedding = pd.read_csv(\"../MINDsmall_train/relation_embedding.vec\", sep='\\t')\n",
    "\n",
    "\n",
    "news_data = pd.read_csv(\"../MINDsmall_train/news.tsv\",\n",
    "    sep='\\t',\n",
    "    names=[\"newsId\", \"category\", \"subcategory\", \"title\",\"abstract\", \"url\", \"title_entities\",\"abstract_entities\"]\n",
    ")\n",
    "\n",
    "behaviors_data = pd.read_csv(\n",
    "    \"../MINDsmall_train/behaviors.tsv\",\n",
    "    sep='\\t',\n",
    "    names=[\"impressionId\", \"userId\", \"timestamp\", \"click_history\", \"impressions\"],\n",
    "    parse_dates=['timestamp'] \n",
    ")"
   ]
  },
  {
   "cell_type": "markdown",
   "metadata": {},
   "source": [
    "### Preprocess data"
   ]
  },
  {
   "cell_type": "code",
   "execution_count": 95,
   "metadata": {},
   "outputs": [],
   "source": [
    "behaviors_data['timestamp'] = pd.to_datetime(behaviors_data['timestamp'], format='%Y-%m-%d %H:%M:%S')\n",
    "behaviors_data['clicks'] = behaviors_data['click_history'].str.split().str.len()\n",
    "behaviors_data['impressions_list'] = behaviors_data['impressions'].str.split()\n",
    "behaviors_data['impressions_count'] = behaviors_data['impressions_list'].str.len()\n",
    "\n",
    "# remove null values\n",
    "news_data = news_data.dropna().reset_index(drop=True)\n"
   ]
  },
  {
   "cell_type": "markdown",
   "metadata": {},
   "source": [
    "### Remove the null values for the clicks & impressions"
   ]
  },
  {
   "cell_type": "code",
   "execution_count": 96,
   "metadata": {},
   "outputs": [],
   "source": [
    "null_clicks_rows = behaviors_data[behaviors_data['clicks'].isnull() & behaviors_data['click_history'].isnull()]\n",
    "\n",
    "# Remove the rows with null values\n",
    "behaviors_data = behaviors_data.dropna().reset_index(drop=True)"
   ]
  },
  {
   "cell_type": "code",
   "execution_count": 97,
   "metadata": {},
   "outputs": [],
   "source": [
    "# sort behaviors_data by timestamp\n",
    "behaviors_data = behaviors_data.sort_values(by='timestamp')"
   ]
  },
  {
   "cell_type": "code",
   "execution_count": 98,
   "metadata": {},
   "outputs": [
    {
     "data": {
      "text/html": [
       "<div>\n",
       "<style scoped>\n",
       "    .dataframe tbody tr th:only-of-type {\n",
       "        vertical-align: middle;\n",
       "    }\n",
       "\n",
       "    .dataframe tbody tr th {\n",
       "        vertical-align: top;\n",
       "    }\n",
       "\n",
       "    .dataframe thead th {\n",
       "        text-align: right;\n",
       "    }\n",
       "</style>\n",
       "<table border=\"1\" class=\"dataframe\">\n",
       "  <thead>\n",
       "    <tr style=\"text-align: right;\">\n",
       "      <th></th>\n",
       "      <th>newsId</th>\n",
       "      <th>category</th>\n",
       "      <th>subcategory</th>\n",
       "      <th>title</th>\n",
       "      <th>abstract</th>\n",
       "      <th>url</th>\n",
       "      <th>title_entities</th>\n",
       "      <th>abstract_entities</th>\n",
       "    </tr>\n",
       "  </thead>\n",
       "  <tbody>\n",
       "    <tr>\n",
       "      <th>0</th>\n",
       "      <td>N55528</td>\n",
       "      <td>lifestyle</td>\n",
       "      <td>lifestyleroyals</td>\n",
       "      <td>The Brands Queen Elizabeth, Prince Charles, an...</td>\n",
       "      <td>Shop the notebooks, jackets, and more that the...</td>\n",
       "      <td>https://assets.msn.com/labs/mind/AAGH0ET.html</td>\n",
       "      <td>[{\"Label\": \"Prince Philip, Duke of Edinburgh\",...</td>\n",
       "      <td>[]</td>\n",
       "    </tr>\n",
       "    <tr>\n",
       "      <th>1</th>\n",
       "      <td>N19639</td>\n",
       "      <td>health</td>\n",
       "      <td>weightloss</td>\n",
       "      <td>50 Worst Habits For Belly Fat</td>\n",
       "      <td>These seemingly harmless habits are holding yo...</td>\n",
       "      <td>https://assets.msn.com/labs/mind/AAB19MK.html</td>\n",
       "      <td>[{\"Label\": \"Adipose tissue\", \"Type\": \"C\", \"Wik...</td>\n",
       "      <td>[{\"Label\": \"Adipose tissue\", \"Type\": \"C\", \"Wik...</td>\n",
       "    </tr>\n",
       "    <tr>\n",
       "      <th>2</th>\n",
       "      <td>N61837</td>\n",
       "      <td>news</td>\n",
       "      <td>newsworld</td>\n",
       "      <td>The Cost of Trump's Aid Freeze in the Trenches...</td>\n",
       "      <td>Lt. Ivan Molchanets peeked over a parapet of s...</td>\n",
       "      <td>https://assets.msn.com/labs/mind/AAJgNsz.html</td>\n",
       "      <td>[]</td>\n",
       "      <td>[{\"Label\": \"Ukraine\", \"Type\": \"G\", \"WikidataId...</td>\n",
       "    </tr>\n",
       "    <tr>\n",
       "      <th>3</th>\n",
       "      <td>N53526</td>\n",
       "      <td>health</td>\n",
       "      <td>voices</td>\n",
       "      <td>I Was An NBA Wife. Here's How It Affected My M...</td>\n",
       "      <td>I felt like I was a fraud, and being an NBA wi...</td>\n",
       "      <td>https://assets.msn.com/labs/mind/AACk2N6.html</td>\n",
       "      <td>[]</td>\n",
       "      <td>[{\"Label\": \"National Basketball Association\", ...</td>\n",
       "    </tr>\n",
       "    <tr>\n",
       "      <th>4</th>\n",
       "      <td>N38324</td>\n",
       "      <td>health</td>\n",
       "      <td>medical</td>\n",
       "      <td>How to Get Rid of Skin Tags, According to a De...</td>\n",
       "      <td>They seem harmless, but there's a very good re...</td>\n",
       "      <td>https://assets.msn.com/labs/mind/AAAKEkt.html</td>\n",
       "      <td>[{\"Label\": \"Skin tag\", \"Type\": \"C\", \"WikidataI...</td>\n",
       "      <td>[{\"Label\": \"Skin tag\", \"Type\": \"C\", \"WikidataI...</td>\n",
       "    </tr>\n",
       "  </tbody>\n",
       "</table>\n",
       "</div>"
      ],
      "text/plain": [
       "   newsId   category      subcategory  \\\n",
       "0  N55528  lifestyle  lifestyleroyals   \n",
       "1  N19639     health       weightloss   \n",
       "2  N61837       news        newsworld   \n",
       "3  N53526     health           voices   \n",
       "4  N38324     health          medical   \n",
       "\n",
       "                                               title  \\\n",
       "0  The Brands Queen Elizabeth, Prince Charles, an...   \n",
       "1                      50 Worst Habits For Belly Fat   \n",
       "2  The Cost of Trump's Aid Freeze in the Trenches...   \n",
       "3  I Was An NBA Wife. Here's How It Affected My M...   \n",
       "4  How to Get Rid of Skin Tags, According to a De...   \n",
       "\n",
       "                                            abstract  \\\n",
       "0  Shop the notebooks, jackets, and more that the...   \n",
       "1  These seemingly harmless habits are holding yo...   \n",
       "2  Lt. Ivan Molchanets peeked over a parapet of s...   \n",
       "3  I felt like I was a fraud, and being an NBA wi...   \n",
       "4  They seem harmless, but there's a very good re...   \n",
       "\n",
       "                                             url  \\\n",
       "0  https://assets.msn.com/labs/mind/AAGH0ET.html   \n",
       "1  https://assets.msn.com/labs/mind/AAB19MK.html   \n",
       "2  https://assets.msn.com/labs/mind/AAJgNsz.html   \n",
       "3  https://assets.msn.com/labs/mind/AACk2N6.html   \n",
       "4  https://assets.msn.com/labs/mind/AAAKEkt.html   \n",
       "\n",
       "                                      title_entities  \\\n",
       "0  [{\"Label\": \"Prince Philip, Duke of Edinburgh\",...   \n",
       "1  [{\"Label\": \"Adipose tissue\", \"Type\": \"C\", \"Wik...   \n",
       "2                                                 []   \n",
       "3                                                 []   \n",
       "4  [{\"Label\": \"Skin tag\", \"Type\": \"C\", \"WikidataI...   \n",
       "\n",
       "                                   abstract_entities  \n",
       "0                                                 []  \n",
       "1  [{\"Label\": \"Adipose tissue\", \"Type\": \"C\", \"Wik...  \n",
       "2  [{\"Label\": \"Ukraine\", \"Type\": \"G\", \"WikidataId...  \n",
       "3  [{\"Label\": \"National Basketball Association\", ...  \n",
       "4  [{\"Label\": \"Skin tag\", \"Type\": \"C\", \"WikidataI...  "
      ]
     },
     "execution_count": 98,
     "metadata": {},
     "output_type": "execute_result"
    }
   ],
   "source": [
    "news_data.head()"
   ]
  },
  {
   "cell_type": "code",
   "execution_count": 99,
   "metadata": {},
   "outputs": [
    {
     "data": {
      "text/html": [
       "<div>\n",
       "<style scoped>\n",
       "    .dataframe tbody tr th:only-of-type {\n",
       "        vertical-align: middle;\n",
       "    }\n",
       "\n",
       "    .dataframe tbody tr th {\n",
       "        vertical-align: top;\n",
       "    }\n",
       "\n",
       "    .dataframe thead th {\n",
       "        text-align: right;\n",
       "    }\n",
       "</style>\n",
       "<table border=\"1\" class=\"dataframe\">\n",
       "  <thead>\n",
       "    <tr style=\"text-align: right;\">\n",
       "      <th></th>\n",
       "      <th>impressionId</th>\n",
       "      <th>userId</th>\n",
       "      <th>timestamp</th>\n",
       "      <th>click_history</th>\n",
       "      <th>impressions</th>\n",
       "      <th>clicks</th>\n",
       "      <th>impressions_list</th>\n",
       "      <th>impressions_count</th>\n",
       "    </tr>\n",
       "  </thead>\n",
       "  <tbody>\n",
       "    <tr>\n",
       "      <th>19705</th>\n",
       "      <td>20112</td>\n",
       "      <td>U65916</td>\n",
       "      <td>2019-11-09 00:00:19</td>\n",
       "      <td>N51706 N40767 N12096 N9798 N38802 N54827 N5780...</td>\n",
       "      <td>N54300-0 N46057-1 N57005-0 N52154-0 N57099-0 N...</td>\n",
       "      <td>15.0</td>\n",
       "      <td>[N54300-0, N46057-1, N57005-0, N52154-0, N5709...</td>\n",
       "      <td>31</td>\n",
       "    </tr>\n",
       "    <tr>\n",
       "      <th>13531</th>\n",
       "      <td>13807</td>\n",
       "      <td>U49985</td>\n",
       "      <td>2019-11-09 00:01:13</td>\n",
       "      <td>N5056 N29975 N53234 N39603 N50032 N8422 N53580...</td>\n",
       "      <td>N20602-0 N50059-0 N57768-1 N50135-1 N15134-0 N...</td>\n",
       "      <td>93.0</td>\n",
       "      <td>[N20602-0, N50059-0, N57768-1, N50135-1, N1513...</td>\n",
       "      <td>29</td>\n",
       "    </tr>\n",
       "    <tr>\n",
       "      <th>27115</th>\n",
       "      <td>27660</td>\n",
       "      <td>U25550</td>\n",
       "      <td>2019-11-09 00:02:44</td>\n",
       "      <td>N17260 N38298 N33976 N47719 N14888 N18870 N4607</td>\n",
       "      <td>N50135-0 N15134-0 N52433-1 N20602-0 N64536-0</td>\n",
       "      <td>7.0</td>\n",
       "      <td>[N50135-0, N15134-0, N52433-1, N20602-0, N6453...</td>\n",
       "      <td>5</td>\n",
       "    </tr>\n",
       "    <tr>\n",
       "      <th>149080</th>\n",
       "      <td>152217</td>\n",
       "      <td>U19710</td>\n",
       "      <td>2019-11-09 00:02:50</td>\n",
       "      <td>N3530 N48284 N43019 N62546 N138 N13138 N10676 ...</td>\n",
       "      <td>N57099-0 N30295-0 N21086-0 N5379-0 N57005-0 N4...</td>\n",
       "      <td>8.0</td>\n",
       "      <td>[N57099-0, N30295-0, N21086-0, N5379-0, N57005...</td>\n",
       "      <td>56</td>\n",
       "    </tr>\n",
       "    <tr>\n",
       "      <th>41348</th>\n",
       "      <td>42166</td>\n",
       "      <td>U38106</td>\n",
       "      <td>2019-11-09 00:03:09</td>\n",
       "      <td>N16874 N264 N48697 N51366</td>\n",
       "      <td>N3491-0 N20602-0 N25785-0 N23575-0 N38783-0 N1...</td>\n",
       "      <td>4.0</td>\n",
       "      <td>[N3491-0, N20602-0, N25785-0, N23575-0, N38783...</td>\n",
       "      <td>48</td>\n",
       "    </tr>\n",
       "  </tbody>\n",
       "</table>\n",
       "</div>"
      ],
      "text/plain": [
       "        impressionId  userId           timestamp  \\\n",
       "19705          20112  U65916 2019-11-09 00:00:19   \n",
       "13531          13807  U49985 2019-11-09 00:01:13   \n",
       "27115          27660  U25550 2019-11-09 00:02:44   \n",
       "149080        152217  U19710 2019-11-09 00:02:50   \n",
       "41348          42166  U38106 2019-11-09 00:03:09   \n",
       "\n",
       "                                            click_history  \\\n",
       "19705   N51706 N40767 N12096 N9798 N38802 N54827 N5780...   \n",
       "13531   N5056 N29975 N53234 N39603 N50032 N8422 N53580...   \n",
       "27115     N17260 N38298 N33976 N47719 N14888 N18870 N4607   \n",
       "149080  N3530 N48284 N43019 N62546 N138 N13138 N10676 ...   \n",
       "41348                           N16874 N264 N48697 N51366   \n",
       "\n",
       "                                              impressions  clicks  \\\n",
       "19705   N54300-0 N46057-1 N57005-0 N52154-0 N57099-0 N...    15.0   \n",
       "13531   N20602-0 N50059-0 N57768-1 N50135-1 N15134-0 N...    93.0   \n",
       "27115        N50135-0 N15134-0 N52433-1 N20602-0 N64536-0     7.0   \n",
       "149080  N57099-0 N30295-0 N21086-0 N5379-0 N57005-0 N4...     8.0   \n",
       "41348   N3491-0 N20602-0 N25785-0 N23575-0 N38783-0 N1...     4.0   \n",
       "\n",
       "                                         impressions_list  impressions_count  \n",
       "19705   [N54300-0, N46057-1, N57005-0, N52154-0, N5709...                 31  \n",
       "13531   [N20602-0, N50059-0, N57768-1, N50135-1, N1513...                 29  \n",
       "27115   [N50135-0, N15134-0, N52433-1, N20602-0, N6453...                  5  \n",
       "149080  [N57099-0, N30295-0, N21086-0, N5379-0, N57005...                 56  \n",
       "41348   [N3491-0, N20602-0, N25785-0, N23575-0, N38783...                 48  "
      ]
     },
     "execution_count": 99,
     "metadata": {},
     "output_type": "execute_result"
    }
   ],
   "source": [
    "behaviors_data.head()"
   ]
  },
  {
   "cell_type": "markdown",
   "metadata": {},
   "source": [
    "### Sliding window"
   ]
  },
  {
   "cell_type": "code",
   "execution_count": 100,
   "metadata": {},
   "outputs": [],
   "source": [
    "train_window_size = 6\n",
    "test_window_size = 3\n",
    "\n",
    "behaviors_data['timestamp'] = behaviors_data['timestamp'].dt.hour\n",
    "\n",
    "start_time = 0\n",
    "end_time = train_window_size\n",
    "recommendations = []\n",
    "\n",
    "\n",
    "def sliding_window(start_time, training_window_size, test_window_size=3):\n",
    "    end_time = training_window_size\n",
    "    training_data = behaviors_data[(behaviors_data['timestamp'] >= start_time) & (behaviors_data['timestamp'] < end_time)]\n",
    "    test_data = behaviors_data[(behaviors_data['timestamp'] >= end_time) & (behaviors_data['timestamp'] < end_time + test_window_size)]\n",
    "    \n",
    "    # start_time += test_window_size\n",
    "    # end_time = start_time + train_window_size\n",
    "    return training_data, test_data\n"
   ]
  },
  {
   "cell_type": "code",
   "execution_count": 101,
   "metadata": {},
   "outputs": [],
   "source": [
    "def user_clicks(training_data):\n",
    "    click_history = training_data.dropna(subset=['click_history'])\n",
    "    all_clicks = []\n",
    "    for index, row in click_history.iterrows():\n",
    "        user_id = row['userId']\n",
    "        for news_id in row['click_history'].split():\n",
    "            all_clicks.append([user_id, news_id, 1])\n",
    "    return pd.DataFrame(all_clicks, columns=['userId', 'newsId', 'click'])"
   ]
  },
  {
   "cell_type": "code",
   "execution_count": 102,
   "metadata": {},
   "outputs": [],
   "source": [
    "def create_matrix(clicks_df):\n",
    "    interaction_matrix = clicks_df.pivot_table(index='userId', columns='newsId', values='click', fill_value=0)\n",
    "    return interaction_matrix\n",
    "\n",
    "def get_similarity_df(interaction_matrix):\n",
    "    interaction_sparse = csr_matrix(interaction_matrix.values)\n",
    "    item_similarity = cosine_similarity(interaction_sparse.T)\n",
    "    item_similarity_df = pd.DataFrame(item_similarity, index=interaction_matrix.columns, columns=interaction_matrix.columns)\n",
    "    return item_similarity_df"
   ]
  },
  {
   "cell_type": "code",
   "execution_count": 103,
   "metadata": {},
   "outputs": [
    {
     "name": "stdout",
     "output_type": "stream",
     "text": [
      "Top 5 articles similar to N55189 are: ['N306', 'N29177', 'N871', 'N42620', 'N43142']\n"
     ]
    },
    {
     "ename": "TypeError",
     "evalue": "unsupported operand type(s) for +: 'int' and 'str'",
     "output_type": "error",
     "traceback": [
      "\u001b[0;31m---------------------------------------------------------------------------\u001b[0m",
      "\u001b[0;31mTypeError\u001b[0m                                 Traceback (most recent call last)",
      "Cell \u001b[0;32mIn[103], line 30\u001b[0m\n\u001b[1;32m     28\u001b[0m \u001b[38;5;66;03m# Example: Get top 5 articles similar to 'N55528' (example newsId)\u001b[39;00m\n\u001b[1;32m     29\u001b[0m input_news_id \u001b[38;5;241m=\u001b[39m \u001b[38;5;124m'\u001b[39m\u001b[38;5;124mN55189\u001b[39m\u001b[38;5;124m'\u001b[39m\n\u001b[0;32m---> 30\u001b[0m result \u001b[38;5;241m=\u001b[39m \u001b[43mcollaborative_filtering\u001b[49m\u001b[43m(\u001b[49m\u001b[38;5;124;43m'\u001b[39;49m\u001b[38;5;124;43mN55189\u001b[39;49m\u001b[38;5;124;43m'\u001b[39;49m\u001b[43m,\u001b[49m\u001b[43m \u001b[49m\u001b[38;5;241;43m5\u001b[39;49m\u001b[43m)\u001b[49m\n\u001b[1;32m     32\u001b[0m \u001b[38;5;28mprint\u001b[39m(result)\n",
      "Cell \u001b[0;32mIn[103], line 26\u001b[0m, in \u001b[0;36mcollaborative_filtering\u001b[0;34m(news_id, top_n)\u001b[0m\n\u001b[1;32m     24\u001b[0m top_articles\u001b[38;5;241m.\u001b[39mremove(news_id) \n\u001b[1;32m     25\u001b[0m \u001b[38;5;28mprint\u001b[39m(\u001b[38;5;124mf\u001b[39m\u001b[38;5;124m\"\u001b[39m\u001b[38;5;124mTop \u001b[39m\u001b[38;5;132;01m{\u001b[39;00mtop_n\u001b[38;5;132;01m}\u001b[39;00m\u001b[38;5;124m articles similar to \u001b[39m\u001b[38;5;132;01m{\u001b[39;00mnews_id\u001b[38;5;132;01m}\u001b[39;00m\u001b[38;5;124m are: \u001b[39m\u001b[38;5;132;01m{\u001b[39;00mtop_articles\u001b[38;5;132;01m}\u001b[39;00m\u001b[38;5;124m\"\u001b[39m)\n\u001b[0;32m---> 26\u001b[0m \u001b[38;5;28mprint\u001b[39m(\u001b[38;5;124m\"\u001b[39m\u001b[38;5;124mThe time is now: \u001b[39m\u001b[38;5;124m\"\u001b[39m, \u001b[43mstart_time\u001b[49m\u001b[43m \u001b[49m\u001b[38;5;241;43m+\u001b[39;49m\u001b[43m \u001b[49m\u001b[38;5;124;43m\"\u001b[39;49m\u001b[38;5;124;43mout of \u001b[39;49m\u001b[38;5;124;43m\"\u001b[39;49m, behaviors_data[\u001b[38;5;124m'\u001b[39m\u001b[38;5;124mtimestamp\u001b[39m\u001b[38;5;124m'\u001b[39m]\u001b[38;5;241m.\u001b[39mmax())\n",
      "\u001b[0;31mTypeError\u001b[0m: unsupported operand type(s) for +: 'int' and 'str'"
     ]
    }
   ],
   "source": [
    "# Recommend articles with sliding window\n",
    "\n",
    "def collaborative_filtering(news_id, top_n=5):\n",
    "    start_time = 0\n",
    "    training_window_size = 6\n",
    "    test_window_size = 3\n",
    "\n",
    "    training_data, test_data = sliding_window(start_time, training_window_size, test_window_size)\n",
    "    clicks_df = user_clicks(training_data)\n",
    "    interaction_matrix = create_matrix(clicks_df)\n",
    "    item_similarity_df = get_similarity_df(interaction_matrix)\n",
    "\n",
    "    while start_time + train_window_size < behaviors_data['timestamp'].max():\n",
    "        training_data, test_data = sliding_window(start_time, training_window_size, test_window_size)\n",
    "        clicks_df = user_clicks(training_data)\n",
    "        interaction_matrix = create_matrix(clicks_df)\n",
    "        item_similarity_df = get_similarity_df(interaction_matrix)\n",
    "        start_time += test_window_size\n",
    "        end_time = start_time + train_window_size\n",
    "\n",
    "\n",
    "        similar_scores = item_similarity_df[news_id]\n",
    "        top_articles = similar_scores.nlargest(top_n + 1).index.tolist()\n",
    "        top_articles.remove(news_id) \n",
    "        print(f\"Top {top_n} articles similar to {news_id} are: {top_articles}\")\n",
    "        # print(\"The time is now: \", start_time + \"out of \", behaviors_data['timestamp'].max())\n",
    "\n",
    "# Example: Get top 5 articles similar to 'N55528' (example newsId)\n",
    "input_news_id = 'N55189'\n",
    "result = collaborative_filtering('N55189', 5)\n",
    "\n",
    "print(result)"
   ]
  },
  {
   "cell_type": "code",
   "execution_count": null,
   "metadata": {},
   "outputs": [
    {
     "name": "stdout",
     "output_type": "stream",
     "text": [
      "Title of input article:\n",
      " The Brands Queen Elizabeth, Prince Charles, and Prince Philip Swear By\n",
      "\n",
      "\n",
      "Title of recommended articles:\n",
      "\n",
      "Kevin Spacey Won't Be Charged in Sexual Assault Case After Accuser Dies\n",
      "Miguel Cervantes' Wife Reveals Daughter, 3, 'Died in My Arms' After Entering Hospice Care\n",
      "Woman, suspect dead at 'Tarzan' actor Ron Ely's California residence\n",
      "Heidi Klum's 2019 Halloween Costume Transformation Is Mind-Blowing   But, Like, What Is It?\n",
      "Former NBA first-round pick Jim Farmer arrested in sex sting operation\n"
     ]
    }
   ],
   "source": [
    "# print title of article 'N55528'\n",
    "print(\"Title of input article:\\n\", news_data[news_data['newsId'] == 'N55528']['title'].values[0])\n",
    "print(\"\\n\")\n",
    "print(\"Title of recommended articles:\\n\")\n",
    "print(news_data[news_data['newsId'] == result[0]]['title'].values[0])\n",
    "\n",
    "print(news_data[news_data['newsId'] == result[1]]['title'].values[0])\n",
    "\n",
    "print(news_data[news_data['newsId'] == result[2]]['title'].values[0])\n",
    "\n",
    "print(news_data[news_data['newsId'] == result[3]]['title'].values[0])\n",
    "\n",
    "print(news_data[news_data['newsId'] == result[4]]['title'].values[0])"
   ]
  },
  {
   "cell_type": "markdown",
   "metadata": {},
   "source": [
    "### Collaborative filtering"
   ]
  },
  {
   "cell_type": "code",
   "execution_count": null,
   "metadata": {},
   "outputs": [],
   "source": [
    "        \n",
    "\n",
    "def collaborative_filtering(training_data, test_data):\n",
    "\n",
    "    # Function to create a user-item interaction matrix from behaviors data\n",
    "    def create_interaction_matrix(data):\n",
    "        all_clicks = []\n",
    "        for index, row in data.dropna(subset=['click_history']).iterrows():\n",
    "            user_id = row['userId']\n",
    "            for news_id in row['click_history'].split():\n",
    "                all_clicks.append([user_id, news_id, 1])\n",
    "        clicks_df = pd.DataFrame(all_clicks, columns=['userId', 'newsId', 'interaction'])\n",
    "        return clicks_df.pivot_table(index='userId', columns='newsId', values='interaction', fill_value=0)\n",
    "\n",
    "    # Create interaction matrices for training and testing\n",
    "    train_interaction_matrix = create_interaction_matrix(train_data)\n",
    "    test_interaction_matrix = create_interaction_matrix(test_data)\n",
    "\n",
    "\n"
   ]
  }
 ],
 "metadata": {
  "kernelspec": {
   "display_name": "Python 3",
   "language": "python",
   "name": "python3"
  },
  "language_info": {
   "codemirror_mode": {
    "name": "ipython",
    "version": 3
   },
   "file_extension": ".py",
   "mimetype": "text/x-python",
   "name": "python",
   "nbconvert_exporter": "python",
   "pygments_lexer": "ipython3",
   "version": "3.12.0"
  }
 },
 "nbformat": 4,
 "nbformat_minor": 2
}
