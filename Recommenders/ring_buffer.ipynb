{
 "cells": [
  {
   "cell_type": "markdown",
   "metadata": {},
   "source": [
    "### Ring Buffer"
   ]
  },
  {
   "cell_type": "code",
   "execution_count": 4,
   "metadata": {},
   "outputs": [],
   "source": [
    "import numpy as np "
   ]
  },
  {
   "cell_type": "code",
   "execution_count": 6,
   "metadata": {},
   "outputs": [
    {
     "name": "stdout",
     "output_type": "stream",
     "text": [
      "Recommended News: ['N106403', 'N71977', 'N97080', 'N102132', 'N97212', 'N121652']\n"
     ]
    }
   ],
   "source": [
    "class RingBuffer:\n",
    "    def __init__(self, max_size):\n",
    "        self.max_size = max_size\n",
    "        self.buffer = [None] * max_size\n",
    "        self.head = 0\n",
    "        self.size = 0\n",
    "\n",
    "    def add_element(self, element):\n",
    "        if self.size < self.max_size:\n",
    "            self.buffer[(self.head + self.size) % self.max_size] = element\n",
    "            self.size += 1\n",
    "        else:\n",
    "            self.buffer[self.head] = element\n",
    "            self.head = (self.head + 1) % self.max_size\n",
    "\n",
    "    def get_elements(self):\n",
    "        return self.buffer\n",
    "\n",
    "def get_similar_news(target_news, news_data):\n",
    "    # Simulated function for finding similar news\n",
    "    # Replace this with a more sophisticated recommendation logic\n",
    "    return [news for news in news_data if news != target_news]\n",
    "\n",
    "def recommend_based_on_history(ring_buffer, user_id, news_data):\n",
    "    # Get user's recent interactions from the ring buffer\n",
    "    user_history = ring_buffer.get_elements()\n",
    "\n",
    "    # Implement your recommendation logic here\n",
    "    if user_history:\n",
    "        last_clicked_news = user_history[-1]\n",
    "        recommended_news = get_similar_news(last_clicked_news, news_data)\n",
    "    else:\n",
    "        # If the user has no history, provide a default recommendation\n",
    "        recommended_news = news_data[:3]\n",
    "\n",
    "    # Update the ring buffer with the latest interaction\n",
    "    ring_buffer.add_element(recommended_news[0])  # Assume the first recommended news is clicked\n",
    "\n",
    "    return recommended_news\n",
    "\n",
    "# Example usage:\n",
    "# Initialize the ring buffer\n",
    "ring_buffer = RingBuffer(max_size=5)\n",
    "\n",
    "# Assuming you have a list of news data (replace this with your actual data)\n",
    "news_data = [\"N106403\", \"N71977\", \"N97080\", \"N102132\", \"N97212\", \"N121652\"]\n",
    "\n",
    "# Simulate recommendations based on user history\n",
    "user_id = \"U397059\"\n",
    "recommendation = recommend_based_on_history(ring_buffer, user_id, news_data)\n",
    "\n",
    "print(\"Recommended News:\", recommendation)\n",
    "\n"
   ]
  },
  {
   "cell_type": "code",
   "execution_count": 7,
   "metadata": {},
   "outputs": [
    {
     "name": "stdout",
     "output_type": "stream",
     "text": [
      "Recommendation for User1: ['N71977', 'N97080', 'N102132']\n",
      "Recommendation for User2: ['N106403', 'N97080', 'N102132']\n"
     ]
    }
   ],
   "source": [
    "class RingBuffer:\n",
    "    def __init__(self, max_size):\n",
    "        self.max_size = max_size\n",
    "        self.buffer = [None] * max_size\n",
    "        self.head = 0\n",
    "        self.size = 0\n",
    "\n",
    "    def add_element(self, element):\n",
    "        if self.size < self.max_size:\n",
    "            self.buffer[(self.head + self.size) % self.max_size] = element\n",
    "            self.size += 1\n",
    "        else:\n",
    "            self.buffer[self.head] = element\n",
    "            self.head = (self.head + 1) % self.max_size\n",
    "\n",
    "    def get_elements(self):\n",
    "        return self.buffer\n",
    "\n",
    "class RecommendationSystem:\n",
    "    def __init__(self, ring_buffer_size):\n",
    "        self.ring_buffer = RingBuffer(max_size=ring_buffer_size)\n",
    "        self.user_pointers = {}\n",
    "\n",
    "    def interact_with_item(self, user_id, item_id):\n",
    "        # Update the ring buffer with the user's interaction\n",
    "        self.ring_buffer.add_element(item_id)\n",
    "\n",
    "        # Update the user's pointer to the last interaction\n",
    "        self.user_pointers[user_id] = (self.ring_buffer.head + self.ring_buffer.size - 1) % self.ring_buffer.max_size\n",
    "\n",
    "    def recommend_for_user(self, user_id, items):\n",
    "        # Get the user's pointer to determine the last interaction\n",
    "        user_pointer = self.user_pointers.get(user_id, 0)\n",
    "\n",
    "        # Retrieve the last interacted item from the ring buffer\n",
    "        last_interacted_item = self.ring_buffer.get_elements()[user_pointer]\n",
    "\n",
    "        # Implement your recommendation logic (e.g., recommend similar items)\n",
    "        recommended_items = self.get_similar_items(last_interacted_item, items)\n",
    "\n",
    "        # Update the user's pointer to the latest interaction\n",
    "        self.user_pointers[user_id] = (user_pointer + 1) % self.ring_buffer.max_size\n",
    "\n",
    "        return recommended_items\n",
    "\n",
    "    def get_similar_items(self, item_id, items):\n",
    "        # Simulated function for finding similar items\n",
    "        # Replace this with your recommendation logic\n",
    "        return [item for item in items if item != item_id][:3]\n",
    "\n",
    "# Example usage:\n",
    "recommendation_system = RecommendationSystem(ring_buffer_size=5)\n",
    "\n",
    "# Simulate user interactions\n",
    "recommendation_system.interact_with_item(user_id=\"User1\", item_id=\"N106403\")\n",
    "recommendation_system.interact_with_item(user_id=\"User2\", item_id=\"N71977\")\n",
    "\n",
    "# Simulate recommending items for users\n",
    "items_data = [\"N106403\", \"N71977\", \"N97080\", \"N102132\", \"N97212\", \"N121652\"]\n",
    "\n",
    "recommendation_user1 = recommendation_system.recommend_for_user(user_id=\"User1\", items=items_data)\n",
    "recommendation_user2 = recommendation_system.recommend_for_user(user_id=\"User2\", items=items_data)\n",
    "\n",
    "print(\"Recommendation for User1:\", recommendation_user1)\n",
    "print(\"Recommendation for User2:\", recommendation_user2)\n"
   ]
  }
 ],
 "metadata": {
  "kernelspec": {
   "display_name": "Python 3",
   "language": "python",
   "name": "python3"
  },
  "language_info": {
   "codemirror_mode": {
    "name": "ipython",
    "version": 3
   },
   "file_extension": ".py",
   "mimetype": "text/x-python",
   "name": "python",
   "nbconvert_exporter": "python",
   "pygments_lexer": "ipython3",
   "version": "3.10.7"
  }
 },
 "nbformat": 4,
 "nbformat_minor": 2
}
