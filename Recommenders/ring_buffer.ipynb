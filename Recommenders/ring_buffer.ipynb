{
 "cells": [
  {
   "cell_type": "code",
   "execution_count": 7,
   "metadata": {},
   "outputs": [],
   "source": [
    "import pandas as pd\n"
   ]
  },
  {
   "cell_type": "code",
   "execution_count": 8,
   "metadata": {},
   "outputs": [],
   "source": [
    "class RingBuffer:\n",
    "    def __init__(self, bufsize):\n",
    "        self.bufsize = bufsize\n",
    "        self.data = []\n",
    "\n",
    "    class __Full:\n",
    "        def add(self, x):\n",
    "            self.data[self.currpos] = x\n",
    "            self.currpos = (self.currpos + 1) % self.bufsize\n",
    "\n",
    "        def get(self):\n",
    "            return self.data[self.currpos:] + self.data[:self.currpos]\n",
    "\n",
    "    def add(self, x):\n",
    "        self.data.append(x)\n",
    "        if len(self.data) == self.bufsize:\n",
    "            self.currpos = 0\n",
    "            self.__class__ = self.__Full\n",
    "\n",
    "    def get(self):\n",
    "        return self.data"
   ]
  },
  {
   "cell_type": "code",
   "execution_count": null,
   "metadata": {},
   "outputs": [],
   "source": []
  },
  {
   "cell_type": "code",
   "execution_count": 9,
   "metadata": {},
   "outputs": [
    {
     "ename": "NameError",
     "evalue": "name 'behaviors_buffer' is not defined",
     "output_type": "error",
     "traceback": [
      "\u001b[0;31m---------------------------------------------------------------------------\u001b[0m",
      "\u001b[0;31mNameError\u001b[0m                                 Traceback (most recent call last)",
      "Cell \u001b[0;32mIn[9], line 3\u001b[0m\n\u001b[1;32m      1\u001b[0m \u001b[38;5;66;03m# Example: Get the most recent behaviors for a specific user\u001b[39;00m\n\u001b[1;32m      2\u001b[0m user_id \u001b[38;5;241m=\u001b[39m \u001b[38;5;124m'\u001b[39m\u001b[38;5;124mU13740\u001b[39m\u001b[38;5;124m'\u001b[39m \u001b[38;5;66;03m# Example user ID\u001b[39;00m\n\u001b[0;32m----> 3\u001b[0m user_behaviors \u001b[38;5;241m=\u001b[39m \u001b[43mbehaviors_buffer\u001b[49m[user_id]\u001b[38;5;241m.\u001b[39mget()\n\u001b[1;32m      4\u001b[0m \u001b[38;5;28mprint\u001b[39m(user_behaviors)\n",
      "\u001b[0;31mNameError\u001b[0m: name 'behaviors_buffer' is not defined"
     ]
    }
   ],
   "source": [
    "# Example: Get the most recent behaviors for a specific user\n",
    "user_id = 'U13740' # Example user ID\n",
    "user_behaviors = behaviors_buffer[user_id].get()\n",
    "print(user_behaviors)"
   ]
  }
 ],
 "metadata": {
  "kernelspec": {
   "display_name": "Python 3",
   "language": "python",
   "name": "python3"
  },
  "language_info": {
   "codemirror_mode": {
    "name": "ipython",
    "version": 3
   },
   "file_extension": ".py",
   "mimetype": "text/x-python",
   "name": "python",
   "nbconvert_exporter": "python",
   "pygments_lexer": "ipython3",
   "version": "3.12.0"
  }
 },
 "nbformat": 4,
 "nbformat_minor": 2
}
